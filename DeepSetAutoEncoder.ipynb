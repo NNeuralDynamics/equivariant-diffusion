{
 "cells": [
  {
   "cell_type": "code",
   "execution_count": 1,
   "id": "dad6b95d-8612-4f65-a12e-ab2545531661",
   "metadata": {},
   "outputs": [
    {
     "name": "stdout",
     "output_type": "stream",
     "text": [
      "cpu\n"
     ]
    }
   ],
   "source": [
    "import os\n",
    "import torch\n",
    "from torch import nn\n",
    "from torchvision import datasets, transforms\n",
    "import numpy as np\n",
    "import matplotlib.pyplot as plt\n",
    "from sklearn.manifold import TSNE\n",
    "from torch.optim import Adam, SGD\n",
    "from collections import defaultdict\n",
    "import numpy.ma as ma\n",
    "from scipy.optimize import linear_sum_assignment\n",
    "import matplotlib.pyplot as plt\n",
    "from sklearn.manifold import TSNE\n",
    "\n",
    "device = torch.device('cuda' if torch.cuda.is_available() else 'cpu')\n",
    "print(device)\n",
    "# torch.backends.cudnn.enabled = False"
   ]
  },
  {
   "cell_type": "code",
   "execution_count": 2,
   "id": "a2a87719-ee6d-42bc-9cc4-9be74a600a34",
   "metadata": {},
   "outputs": [
    {
     "name": "stdout",
     "output_type": "stream",
     "text": [
      "Downsampled MNIST tensor shape: torch.Size([14, 14])\n"
     ]
    },
    {
     "data": {
      "image/png": "[encoded data removed]",
      "text/plain": [
       "<Figure size 432x288 with 1 Axes>"
      ]
     },
     "metadata": {
      "needs_background": "light"
     },
     "output_type": "display_data"
    }
   ],
   "source": [
    "# Define the transform to downsample the images to 14x14 pixels\n",
    "transform = transforms.Compose([\n",
    "    transforms.ToTensor(),\n",
    "    transforms.Resize((14, 14)),\n",
    "    transforms.Normalize((0.5,), (0.5,))\n",
    "])\n",
    "\n",
    "# Load the MNIST dataset with the downsampling transform\n",
    "train_dataset = datasets.MNIST(root='./data', train=True, download=True, transform=transform)\n",
    "test_dataset = datasets.MNIST(root='./data', train=False, download=True, transform=transform)\n",
    "\n",
    "# # Create data loaders\n",
    "train_loader = torch.utils.data.DataLoader(train_dataset, batch_size=64, shuffle=True)\n",
    "test_loader = torch.utils.data.DataLoader(test_dataset, batch_size=64, shuffle=False)\n",
    "\n",
    "test_features, test_labels = next(iter(test_loader))\n",
    "true = test_features[0].squeeze()\n",
    "plt.imshow(true, cmap=\"gray\")\n",
    "print(f\"Downsampled MNIST tensor shape: {true.shape}\")"
   ]
  },
  {
   "cell_type": "markdown",
   "id": "e5731892-4849-454a-8493-1027e518ac03",
   "metadata": {},
   "source": [
    "# Rebasin Stuff:"
   ]
  },
  {
   "cell_type": "code",
   "execution_count": 3,
   "id": "6c8c2000-813a-4811-ad6a-ca3a2d790cc3",
   "metadata": {},
   "outputs": [],
   "source": [
    "# Define MNIST classifier MLP class for dataset\n",
    "# changed 2/13 to add dropout regularization - yet to retrain dataset\n",
    "# \n",
    "class MLP(nn.Module):\n",
    "    def __init__(self, init_type='xavier', seed=None):\n",
    "        super(MLP, self).__init__()\n",
    "        self.fc1 = nn.Linear(196, 32)\n",
    "        self.fc2 = nn.Linear(32, 32)\n",
    "        self.fc3 = nn.Linear(32, 10)\n",
    "        \n",
    "        self.drop = nn.Dropout(p = 0.1)\n",
    "        if seed is not None:\n",
    "            torch.manual_seed(seed)  # Set a unique seed for reproducibility\n",
    "\n",
    "        self.init_weights(init_type)\n",
    "\n",
    "    def init_weights(self, init_type):\n",
    "        if init_type == 'xavier':\n",
    "            nn.init.xavier_uniform_(self.fc1.weight)\n",
    "            nn.init.xavier_uniform_(self.fc2.weight)\n",
    "            nn.init.xavier_uniform_(self.fc3.weight)\n",
    "        elif init_type == 'he':\n",
    "            nn.init.kaiming_uniform_(self.fc1.weight, nonlinearity='relu')\n",
    "            nn.init.kaiming_uniform_(self.fc2.weight, nonlinearity='relu')\n",
    "            nn.init.kaiming_uniform_(self.fc3.weight, nonlinearity='relu')\n",
    "        else:\n",
    "            nn.init.normal_(self.fc1.weight)\n",
    "            nn.init.normal_(self.fc2.weight)\n",
    "            nn.init.normal_(self.fc3.weight)\n",
    "        \n",
    "        nn.init.zeros_(self.fc1.bias)\n",
    "        nn.init.zeros_(self.fc2.bias)\n",
    "        nn.init.zeros_(self.fc3.bias)\n",
    "\n",
    "    def forward(self, x):\n",
    "        x = x.view(-1, 196)\n",
    "        x = self.drop( nn.relu(self.fc1(x)) )\n",
    "        x = self.drop( nn.relu(self.fc2(x)) )\n",
    "        x = self.fc3(x)\n",
    "        return x\n",
    "    \n",
    "def test_mlp(model, test_loader):\n",
    "    model.eval()  # Set the model to evaluation mode\n",
    "    correct = 0\n",
    "    total = 0\n",
    "    with torch.no_grad():  # No need to compute gradients for evaluation\n",
    "        for data, target in test_loader:\n",
    "            output = model(data)\n",
    "            _, predicted = torch.max(output, 1)\n",
    "            total += target.size(0)\n",
    "            correct += (predicted == target).sum().item()\n",
    "    \n",
    "    accuracy = 100 * correct / total\n",
    "    return accuracy"
   ]
  },
  {
   "cell_type": "code",
   "execution_count": 4,
   "id": "5d4be56d-fae3-4155-b432-7b18817a44b3",
   "metadata": {},
   "outputs": [],
   "source": [
    "# Functions for permutations and weight matching\n",
    "def permute_layer_weights(layer, perm):\n",
    "    \"\"\"Permutes weights and biases of a layer based on the given permutation matrix.\"\"\"\n",
    "    weight = layer.weight.data.clone()\n",
    "    bias = layer.bias.data.clone()\n",
    "\n",
    "    # Permute rows of weights (output dimension)\n",
    "    layer.weight.data = weight[perm, :]\n",
    "\n",
    "    # Permute bias (output dimension)\n",
    "    layer.bias.data = bias[perm]\n",
    "    return layer\n",
    "\n",
    "def permute_model(model, permutations):\n",
    "    \"\"\"Applies a list of permutations to a model's layers.\"\"\"\n",
    "    permute_layer_weights(model.fc1, permutations[0])\n",
    "    permute_layer_weights(model.fc2, permutations[1])\n",
    "\n",
    "    # Adjust input weights of the second hidden layer\n",
    "    model.fc2.weight.data = model.fc2.weight.data[:, permutations[0]]\n",
    "    # Adjust input weights of the output layer\n",
    "    model.fc3.weight.data = model.fc3.weight.data[:, permutations[1]]\n",
    "    return model\n",
    "\n",
    "# Functions to permute weights and adjust input weights\n",
    "def apply_permutation(layer, perm):\n",
    "    \"\"\"\n",
    "    Applies the given permutation to the weights and biases of a layer.\n",
    "    Args:\n",
    "        layer: The layer to permute.\n",
    "        perm: The permutation array.\n",
    "    \"\"\"\n",
    "    # Permute rows (output dimension) of weights\n",
    "    layer.weight.data = layer.weight.data[perm, :]\n",
    "    # Permute biases\n",
    "    layer.bias.data = layer.bias.data[perm]\n",
    "\n",
    "def adjust_input_weights(layer, perm):\n",
    "    \"\"\"\n",
    "    Adjusts the input wei\n",
    "    ghts of a layer according to the permutation of the previous layer.\n",
    "    Args:\n",
    "        layer: The layer to adjust.\n",
    "        perm: The permutation array of the previous layer.\n",
    "    \"\"\"\n",
    "    layer.weight.data = layer.weight.data[:, perm]\n",
    "    \n",
    "def generate_permutation_matrix(hidden_dim):\n",
    "    \"\"\"Generates a random permutation matrix.\"\"\"\n",
    "    perm = np.random.permutation(hidden_dim)\n",
    "    return torch.tensor(perm, dtype=torch.long)\n",
    "\n",
    "def compute_similarity_matrix(weights_a, weights_b):\n",
    "    \"\"\"\n",
    "    Computes the similarity matrix for two layers' weights.\n",
    "    \"\"\"\n",
    "    weights_a = weights_a.view(weights_a.size(0), -1)\n",
    "    weights_b = weights_b.view(weights_b.size(0), -1)\n",
    "    return torch.matmul(weights_a, weights_b.T)\n",
    "\n",
    "def get_permuted_weights(weights, perm):\n",
    "    \"\"\"\n",
    "    Permutes the rows of weights based on the given permutation.\n",
    "    \"\"\"\n",
    "    return weights[perm, :]\n",
    "\n",
    "\n",
    "def weight_matching(rng, model_a, model_b, max_iter=100, init_perm=None):\n",
    "    \"\"\"\n",
    "    Optimizes permutations to match Model B to Model A.\n",
    "    \"\"\"\n",
    "    layers = ['fc1', 'fc2', 'fc3']\n",
    "    perm_sizes = {layer: getattr(model_a, layer).weight.size(0) for layer in layers[:-1]}\n",
    "    perm = {layer: np.arange(size) for layer, size in perm_sizes.items()} if init_perm is None else init_perm\n",
    "\n",
    "    for iteration in range(max_iter):\n",
    "        progress = False\n",
    "        for layer in layers[:-1]:  # Exclude the output layer (fc3)\n",
    "            n = perm_sizes[layer]\n",
    "            similarity_matrix = compute_similarity_matrix(\n",
    "                getattr(model_a, layer).weight.data,\n",
    "                get_permuted_weights(getattr(model_b, layer).weight.data, perm[layer])\n",
    "            )\n",
    "            row_ind, col_ind = linear_sum_assignment(similarity_matrix.numpy(), maximize=True)\n",
    "\n",
    "            old_score = np.sum(similarity_matrix.numpy()[np.arange(n), perm[layer]])\n",
    "            new_score = np.sum(similarity_matrix.numpy()[np.arange(n), col_ind])\n",
    "\n",
    "            if new_score > old_score:\n",
    "                perm[layer] = col_ind\n",
    "                progress = True\n",
    "\n",
    "        if not progress:\n",
    "            break\n",
    "\n",
    "    return perm, new_score\n",
    "\n",
    "def rebase_model_b_to_a(rng, model_a, model_b, max_iter=100):\n",
    "    \"\"\"\n",
    "    Rebases Model B to match Model A using weight matching.\n",
    "    \"\"\"\n",
    "    # Generate initial permutations\n",
    "    init_perm = {layer: generate_permutation_matrix(getattr(model_a, layer).weight.size(0)) for layer in ['fc1', 'fc2']}\n",
    "    \n",
    "    # Perform weight matching\n",
    "    permutations, score = weight_matching(rng, model_a, model_b, max_iter=max_iter, init_perm=init_perm)\n",
    "    \n",
    "    # Apply the permutations to Model B\n",
    "    model_b = permute_model(model_b, [permutations['fc1'], permutations['fc2']])\n",
    "    \n",
    "    return model_b, permutations, score\n",
    "\n",
    "def load_model_weights(model, weight_path):\n",
    "    # Load weights and biases\n",
    "    weights, biases = torch.load(weight_path)\n",
    "    model.fc1.weight.data = weights[0]\n",
    "    model.fc2.weight.data = weights[1]\n",
    "    model.fc3.weight.data = weights[2]\n",
    "    model.fc1.bias.data = biases[0]\n",
    "    model.fc2.bias.data = biases[1]\n",
    "    model.fc3.bias.data = biases[2]\n",
    "    return model\n",
    "\n",
    "def reconstruct_model(model, final_permutations):\n",
    "    \"\"\"\n",
    "    Reconstruct model_b by applying the final permutations to its layers.\n",
    "    Args:\n",
    "        model_b (MLP): The model to be reconstructed.\n",
    "        final_permutations (dict): Dictionary containing layer-wise permutations.\n",
    "    Returns:\n",
    "        MLP: The reconstructed model.\n",
    "    \"\"\"\n",
    "    # Apply permutations to fc1 layer\n",
    "    apply_permutation(model.fc1, final_permutations[1]['fc1'])\n",
    "    adjust_input_weights(model.fc2, final_permutations[1]['fc1'])\n",
    "    \n",
    "    # Apply permutations to fc2 layer\n",
    "    apply_permutation(model.fc2, final_permutations[1]['fc2'])\n",
    "    adjust_input_weights(model.fc3, final_permutations[1]['fc2'])\n",
    "    \n",
    "    # Return the reconstructed model\n",
    "    return model\n",
    "\n",
    "def extract_weights_and_biases(model):\n",
    "    \"\"\"Flatten the weights and biases of each layer in the model into a single vector.\"\"\"\n",
    "    all_weights_biases = []\n",
    "    \n",
    "    # Flatten weights and biases for each layer\n",
    "    for layer_name in ['fc1', 'fc2', 'fc3']:\n",
    "        weights = getattr(model, layer_name).weight.data.numpy().flatten()  # Flatten the weights\n",
    "        biases = getattr(model, layer_name).bias.data.numpy().flatten()    # Flatten the biases\n",
    "        all_weights_biases.extend(weights)\n",
    "        all_weights_biases.extend(biases)\n",
    "    \n",
    "    return np.array(all_weights_biases)"
   ]
  },
  {
   "cell_type": "code",
   "execution_count": 5,
   "id": "7e7f26e2-c392-496f-943d-59a264ba409d",
   "metadata": {},
   "outputs": [],
   "source": [
    "import time\n",
    "\n",
    "def get_permuted_models_data(ref_point=0, N = 10):\n",
    "    ref_model = MLP()\n",
    "    ref_model_path = f\"models/reduced_mlp_weights_{ref_point}.pt\"\n",
    "    ref_model = load_model_weights(ref_model, ref_model_path)\n",
    "    \n",
    "    org_models=[]\n",
    "    permuted_models = []\n",
    "    full_times = []\n",
    "    rebasin_times = []\n",
    "    scores = []\n",
    "    rng = np.random.default_rng(42)\n",
    "\n",
    "    for i in range(0,N):\n",
    "        if i == ref_point:\n",
    "            continue\n",
    "        all_start = time.time() # start timing\n",
    "        model_path = f\"models/reduced_mlp_weights_{i}.pt\"\n",
    "        model = MLP()\n",
    "        model = load_model_weights(model, model_path)\n",
    "        org_models.append(model)\n",
    "        loaded_model = time.time() # end timing for loading the model from .pth file\n",
    "        \n",
    "        reconstructed_model, final_permutations, score = rebase_model_b_to_a(rng, ref_model, model, max_iter=100)\n",
    "        scores.append(score)\n",
    "        permuted_models.append(reconstructed_model)\n",
    "        all_end = time.time() # end timing for the entire loop\n",
    "        \n",
    "        full_times.append(all_end - all_start)\n",
    "        rebasin_times.append(all_end - loaded_model)\n",
    "        \n",
    "#         print(f\"Org model accuracy:{test_mlp(model, test_loader)} Reconstructed model accuracy:{test_mlp(reconstructed_model, test_loader)}\")\n",
    "    return org_models, permuted_models, scores, rebasin_times\n",
    "\n",
    "org_models, permuted_models, scores, rebasin_times = get_permuted_models_data(ref_point=0, N = 780)"
   ]
  },
  {
   "cell_type": "code",
   "execution_count": 11,
   "id": "e8447656-6bf4-440e-b241-31c32badeaaa",
   "metadata": {},
   "outputs": [],
   "source": [
    "def extract_weights_and_biases(model):\n",
    "    \"\"\"Flatten the weights and biases of each layer in the model into a single vector.\"\"\"\n",
    "    all_weights_biases = []\n",
    "    \n",
    "    # Flatten weights and biases for each layer\n",
    "    for layer_name in ['fc1', 'fc2', 'fc3']:\n",
    "        weights = getattr(model, layer_name).weight.data.numpy().flatten()  # Flatten the weights\n",
    "        biases = getattr(model, layer_name).bias.data.numpy().flatten()    # Flatten the biases\n",
    "        all_weights_biases.extend(weights)\n",
    "        all_weights_biases.extend(biases)\n",
    "    \n",
    "    return np.array(all_weights_biases)\n",
    "\n",
    "def plot_tsne(ref_model, org_models, permuted_models):\n",
    "    \"\"\"Plot t-SNE of weights and biases from the reference_param, permuted_params_list, and data_points.\"\"\"\n",
    "    \n",
    "    flattened_reference = extract_weights_and_biases(ref_model)\n",
    "        \n",
    "    all_params = [flattened_reference]\n",
    "    \n",
    "    # Flatten and concatenate all permuted parameters\n",
    "    for permuted_model in permuted_models:\n",
    "        flattened_permuted_param = extract_weights_and_biases(permuted_model)\n",
    "        all_params.append(flattened_permuted_param)\n",
    "    \n",
    "    for org_model in org_models:\n",
    "        org_model_param = extract_weights_and_biases(org_model)\n",
    "        all_params.append(org_model_param)\n",
    "    \n",
    "    tsne = TSNE(n_components=2, random_state=42, perplexity=32)\n",
    "    tsne_results = tsne.fit_transform(np.vstack(all_params))\n",
    "    \n",
    "    plt.figure(figsize=(12, 8))\n",
    "    \n",
    "    for i, tsne_result in enumerate(tsne_results[1:len(permuted_models)+1], 1):\n",
    "        if i == 1:\n",
    "            plt.scatter(tsne_result[0], tsne_result[1], label=f'Permuted Params', color='green')\n",
    "        else:\n",
    "            plt.scatter(tsne_result[0], tsne_result[1], color='green')\n",
    "    \n",
    "    # Plot the original data points\n",
    "    for i, tsne_result in enumerate(tsne_results[len(org_models)+1:], 1):\n",
    "        if i == 1:\n",
    "            plt.scatter(tsne_result[0], tsne_result[1], label=f'Original Params', color='blue')\n",
    "        else:\n",
    "            plt.scatter(tsne_result[0], tsne_result[1], color='blue')\n",
    "                    \n",
    "    # Plot reference point\n",
    "    plt.scatter(tsne_results[0, 0], tsne_results[0, 1], label='Reference (ref_point)', color='red', marker='X')\n",
    "    \n",
    "    # Add titles and labels\n",
    "    plt.title(\"t-SNE visualization of weights and biases for 1 reference parameter, permuted params, and data points\")\n",
    "    plt.xlabel(\"t-SNE Component 1\")\n",
    "    plt.ylabel(\"t-SNE Component 2\")\n",
    "    plt.legend()\n",
    "    \n",
    "    # Show plot\n",
    "    plt.show(\"tsne_plot.png\")\n",
    "    "
   ]
  },
  {
   "cell_type": "code",
   "execution_count": 12,
   "id": "69033443-10b6-4d4d-be62-2fb9e7fb6caf",
   "metadata": {},
   "outputs": [
    {
     "data": {
      "image/png": "[encoded data removed]",
      "text/plain": [
       "<Figure size 864x576 with 1 Axes>"
      ]
     },
     "metadata": {
      "needs_background": "light"
     },
     "output_type": "display_data"
    }
   ],
   "source": [
    "plot_tsne(org_models[0], org_models, permuted_models)"
   ]
  },
  {
   "cell_type": "markdown",
   "id": "4ef80390-2837-4368-99e2-a4dcb854ee15",
   "metadata": {},
   "source": [
    "# Manage MLP Data:"
   ]
  },
  {
   "cell_type": "code",
   "execution_count": 13,
   "id": "1bfa59ab-16c8-4577-b163-07f2140c1c9e",
   "metadata": {},
   "outputs": [],
   "source": [
    "from typing import Tuple, NamedTuple\n",
    "from torch.utils.data import Dataset, DataLoader\n",
    "\n",
    "class Batch(NamedTuple):\n",
    "    weights: Tuple\n",
    "    biases: Tuple\n",
    "\n",
    "    def _assert_same_len(self):\n",
    "        assert len(set([len(t) for t in self])) == 1\n",
    "\n",
    "    def as_dict(self):\n",
    "        return self._asdict()\n",
    "\n",
    "    def to(self, device):\n",
    "        \"\"\"move batch to device\"\"\"\n",
    "        return self.__class__(\n",
    "            weights=tuple(w.to(device) for w in self.weights),\n",
    "            biases=tuple(w.to(device) for w in self.biases),        )\n",
    "\n",
    "    def __len__(self):\n",
    "        return len(self.weights[0])\n",
    "    \n",
    "\n",
    "# Custom Dataset to extract weights and biases\n",
    "class MLPParameterDataset(Dataset):\n",
    "    def __init__(self, mlp_list: list):\n",
    "        \"\"\"\n",
    "        Initialize the dataset with a list of MLP objects.\n",
    "        Args:\n",
    "            mlp_list (list): List of MLP objects\n",
    "        \"\"\"\n",
    "        self.mlp_list = mlp_list\n",
    "\n",
    "    def __len__(self) -> int:\n",
    "        \"\"\"\n",
    "        Return the number of MLP objects in the dataset.\n",
    "        \"\"\"\n",
    "        return len(self.mlp_list)\n",
    "\n",
    "    def __getitem__(self, idx: int) -> Tuple[Tuple[torch.Tensor], Tuple[torch.Tensor]]:\n",
    "        \"\"\"\n",
    "        Extract the weights and biases of the MLP at index `idx`.\n",
    "        Args:\n",
    "            idx (int): Index of the MLP object\n",
    "        Returns:\n",
    "            Batch( Tuple[Tuple[torch.Tensor], Tuple[torch.Tensor]] ):\n",
    "                - A tuple containing:\n",
    "                    - Tuple of weights (torch.Tensor for each layer)\n",
    "                    - Tuple of biases (torch.Tensor for each layer)\n",
    "        \"\"\"\n",
    "        mlp = self.mlp_list[idx]\n",
    "\n",
    "        # Extract weights and biases from each layer\n",
    "        # Permute/unsqueeze tensors to have bs, input dim, output dim, 1\n",
    "        weights = tuple(layer.weight.data.clone().permute(1, 0).unsqueeze(-1) for layer in [mlp.fc1, mlp.fc2, mlp.fc3])\n",
    "        biases = tuple(layer.bias.data.clone().unsqueeze(-1) for layer in [mlp.fc1, mlp.fc2, mlp.fc3])\n",
    "\n",
    "        return Batch(weights, biases)\n",
    "\n",
    "def sample_first_mlp_from_batch(batch: Batch, init_type: str = 'xavier', seed: int = None) -> MLP:\n",
    "    \"\"\"\n",
    "    Sample the first MLP from a batch and reconstruct it as an MLP object.\n",
    "\n",
    "    Args:\n",
    "        batch (Batch): A Batch instance containing weights and biases for a batch of MLPs.\n",
    "        init_type (str): Initialization type for the MLP (default: 'xavier').\n",
    "        seed (int): Seed for reproducibility (default: None).\n",
    "\n",
    "    Returns:\n",
    "        MLP: Reconstructed MLP object with weights and biases from the first sample in the batch.\n",
    "    \"\"\"\n",
    "    # Create a new MLP instance\n",
    "    mlp = MLP(init_type=init_type, seed=seed)\n",
    "\n",
    "    # Ensure the batch has the same number of layers as the MLP\n",
    "#     assert len(batch.weights) == len(batch.biases) == 3, \"Batch must have 3 layers.\"\n",
    "\n",
    "    # Extract the first sample's weights and biases\n",
    "    first_weights = tuple(w[0].squeeze(-1) for w in batch[0])  # Index first and remove last dim\n",
    "    first_biases = tuple(b[0].squeeze(-1) for b in batch[1])    # Index first and remove last dim\n",
    "\n",
    "    # Assign weights and biases to the new MLP instance\n",
    "    with torch.no_grad():\n",
    "        for layer, w, b in zip([mlp.fc1, mlp.fc2, mlp.fc3], first_weights, first_biases):\n",
    "            layer.weight.data = w.permute(1, 0).clone()  # Transpose back to [output_dim, input_dim]\n",
    "            layer.bias.data = b.clone()\n",
    "\n",
    "    return mlp\n",
    "\n",
    "def count_parameters(model):\n",
    "    \"\"\"\n",
    "    Function: Count the learnable params in a portion of the model\n",
    "    Args: model segment (ie, encoder, decoder, entire model)\n",
    "    Returns: the number of learnable params in that model/segment\n",
    "    \"\"\"\n",
    "    total_params = sum(p.numel() for p in model.parameters())\n",
    "    return total_params"
   ]
  },
  {
   "cell_type": "code",
   "execution_count": 14,
   "id": "94db57dd-739c-451c-b446-6a33bbd6cc4a",
   "metadata": {},
   "outputs": [],
   "source": [
    "# Create a dataset and dataloader\n",
    "dataset = MLPParameterDataset(permuted_models)\n",
    "dataloader = DataLoader(dataset, batch_size=32, shuffle=True)"
   ]
  },
  {
   "cell_type": "markdown",
   "id": "cb6c275b-0054-48aa-8bc4-3b4152b7877b",
   "metadata": {},
   "source": [
    "# Deep Sets Perm. Invariant Autoencoder:\n",
    "At least I think it is?! "
   ]
  },
  {
   "cell_type": "code",
   "execution_count": 15,
   "id": "8c1c3733-9a14-4496-a4f2-b227f63daf51",
   "metadata": {},
   "outputs": [],
   "source": [
    "# from https://github.com/manzilzaheer/DeepSets/blob/master/PopStats/model.py\n",
    "# and from https://github.com/yassersouri/pytorch-deep-sets/blob/master/src/deepsets/networks.py\n",
    "# Zaheer et. al. Deep Sets - perm. equivariant set ops\n",
    "class DeepSetBridge(nn.Module):\n",
    "\n",
    "    def __init__(self, in_features, set_features=128, encoder_dims = [512, 1024], decoder_dims = [512, 1024]):\n",
    "        super(DeepSetBridge, self).__init__()\n",
    "        self.in_features = in_features\n",
    "#         self.out_features = in_features\n",
    "        self.set_features =set_features\n",
    "        \n",
    "        # only minor changes made: \n",
    "        # * removed hardcoded dims\n",
    "        # * changed from ELU to LeakyReLU activation for speed\n",
    "        self.encoder = nn.Sequential(\n",
    "            nn.Linear(in_features, encoder_dims[0]),\n",
    "            nn.LeakyReLU(0.1),\n",
    "            nn.Linear(encoder_dims[0], encoder_dims[-1]),\n",
    "            nn.LeakyReLU(0.1),\n",
    "            nn.Linear(encoder_dims[-1], set_features)\n",
    "        )\n",
    "        \n",
    "        self.decoder = nn.Sequential(\n",
    "            nn.Linear(set_features, decoder_dims[0]),\n",
    "            nn.LeakyReLU(0.1),\n",
    "            nn.Linear(decoder_dims[0], decoder_dims[-1]),\n",
    "            nn.LeakyReLU(0.1),\n",
    "            nn.Linear(decoder_dims[-1], in_features),\n",
    "        )\n",
    "    \n",
    "    def reset_parameters(self):\n",
    "        for module in self.children():\n",
    "            reset_op = getattr(module, \"reset_parameters\", None)\n",
    "            if callable(reset_op):\n",
    "                reset_op()\n",
    "                \n",
    "    def stack_parameters(self, x): \n",
    "        tensor_list = []\n",
    "        for i in range(self.set_features):\n",
    "            tensor_list.append(x)\n",
    "        return torch.stack(tensor_list, dim = 1).squeeze()\n",
    "    \n",
    "    \n",
    "    def forward(self, input):\n",
    "        \"\"\"\n",
    "        forward pass through Deep Sets 'bridge':\n",
    "        input: tensor dim 4: [bs, layer input, layer output, 1]\n",
    "        output: tensor dim 4: [bs, layer input, layer output, 1]\n",
    "        \n",
    "        Dims: \n",
    "        1.) [bs, layer in, layer out, 1] -> [bs, layer in * layer out]\n",
    "        2.) [bs, layer in * layer out] -> [bs, set dim] -> [bs, 1]\n",
    "        3.) [bs, 1]->[bs, set dim] done by stacking set dim copies of [bs, 1] on axis 1\n",
    "        4.) [bs, set dim] -> [bs, layer in * layer out] -> [bs, layer in, layer out, 1]\n",
    "        \"\"\"\n",
    "        \n",
    "        x = input\n",
    "        x = x.view( input.shape[0], input.shape[1]*input.shape[2])\n",
    "        x = self.encoder(x)\n",
    "        \n",
    "        x = x.sum(dim=1, keepdim=True)\n",
    "        z = self.stack_parameters(x)\n",
    "        \n",
    "        output = self.decoder(z)\n",
    "        return output.view( input.shape[0], input.shape[1], input.shape[2]).unsqueeze(-1), z\n",
    "\n",
    "\n",
    "\n",
    "class DeepSetAutoEncoder(nn.Module):\n",
    "    def __init__(self, weight_shapes, bias_shapes):\n",
    "        super(DeepSetAutoEncoder, self).__init__()\n",
    "        \n",
    "        \n",
    "        self.input_weight_bridge = DeepSetBridge(in_features = weight_shapes[0][0] * weight_shapes[0][1])\n",
    "        self.hidden_weight_bridge = DeepSetBridge(in_features = weight_shapes[1][0] * weight_shapes[1][1])\n",
    "        self.output_weight_bridge = DeepSetBridge(in_features = weight_shapes[2][0] * weight_shapes[2][1])\n",
    "        \n",
    "        self.input_bias_bridge = DeepSetBridge(in_features = bias_shapes[0][0])\n",
    "        self.hidden_bias_bridge = DeepSetBridge(in_features = bias_shapes[1][0])\n",
    "        self.output_bias_bridge = DeepSetBridge(in_features = bias_shapes[2][0])\n",
    "    \n",
    "    def forward(self, input):\n",
    "        weights, biases = input\n",
    "        recon_weights, recon_biases = [], []\n",
    "        \n",
    "        recon_weights.append(self.input_weight_bridge(weights[0])[0])\n",
    "        recon_weights.append(self.hidden_weight_bridge(weights[1])[0])\n",
    "        recon_weights.append(self.output_weight_bridge(weights[2])[0])\n",
    "        \n",
    "        recon_biases.append(self.input_bias_bridge(biases[0])[0].squeeze(-1))\n",
    "        recon_biases.append(self.hidden_bias_bridge(biases[1])[0].squeeze(-1))\n",
    "        recon_biases.append(self.output_bias_bridge(biases[2])[0].squeeze(-1))\n",
    "        \n",
    "        return Batch(tuple(recon_weights), tuple(recon_biases))"
   ]
  },
  {
   "cell_type": "markdown",
   "id": "365c4e90-dcde-4af7-a3f9-46512ec0522f",
   "metadata": {},
   "source": [
    "# Training:"
   ]
  },
  {
   "cell_type": "code",
   "execution_count": 16,
   "id": "f372e964-4014-4870-b387-5ada54a49c40",
   "metadata": {},
   "outputs": [],
   "source": [
    "def get_shapes(inputs):\n",
    "    \"\"\"\n",
    "    Function: Get shapes of input data\n",
    "    Args: inbut data : Tuple( tuple(weights), tuple(biases))\n",
    "    Returns: list( tuple(weight_shapes), tuple(bias_shapes) )\n",
    "    \"\"\"\n",
    "    weights, biases = inputs\n",
    "    weight_shapes = tuple(weights[i].shape for i in range(len(weights)))\n",
    "    bias_shapes = tuple(biases[i].shape for i in range(len(biases)))\n",
    "    return weight_shapes, bias_shapes\n",
    "\n",
    "def count_parameters(model):\n",
    "    \"\"\"\n",
    "    Function: Count the learnable params in a portion of the model\n",
    "    Args: model segment (ie, encoder, decoder, entire model)\n",
    "    Returns: the number of learnable params in that model/segment\n",
    "    \"\"\"\n",
    "    total_params = sum(p.numel() for p in model.parameters())\n",
    "    return total_params\n",
    "\n",
    "# Set Mean Squared Error implementation\n",
    "def set_mse_loss(x, y):\n",
    "    x_expanded = x.unsqueeze(1)  # (n, 1, d)\n",
    "    y_expanded = y.unsqueeze(0)  # (1, m, d)\n",
    "\n",
    "    squared_diff = (x_expanded - y_expanded) ** 2  # Shape (n, m, d)\n",
    "\n",
    "    mse = squared_diff.mean(dim=-1)  # Shape (n, m)\n",
    "\n",
    "    min_mse_x = mse.min(dim=1)[0]  # Min MSE for each point in x\n",
    "    min_mse_y = mse.min(dim=0)[0]  # Min MSE for each point in y\n",
    "\n",
    "    loss = (min_mse_x.mean() + min_mse_y.mean()) / 2\n",
    "    return loss\n",
    "\n",
    "# Custom loss function for tuples of tensors\n",
    "class TupleLoss(nn.Module):\n",
    "    def __init__(self):\n",
    "        super(TupleLoss, self).__init__()\n",
    "\n",
    "    def forward(self, output, target):\n",
    "        weights1, biases1 = output\n",
    "        weights2, biases2 = target\n",
    "\n",
    "        # Calculate weight loss\n",
    "        weight_loss = torch.mean(torch.stack(\n",
    "            [self._calculate_loss(w1, w2) for w1, w2 in zip(weights1, weights2)]\n",
    "        ))\n",
    "\n",
    "        # Calculate bias loss\n",
    "        bias_loss = torch.mean(torch.stack(\n",
    "            [self._calculate_loss(b1, b2) for b1, b2 in zip(biases1, biases2)]\n",
    "        ))\n",
    "\n",
    "        # Total loss calculation\n",
    "        total_loss = weight_loss + bias_loss\n",
    "        return total_loss\n",
    "\n",
    "    def _calculate_loss(self, w1, w2):\n",
    "        return set_mse_loss(w1, w2)\n",
    "        "
   ]
  },
  {
   "cell_type": "code",
   "execution_count": 17,
   "id": "ab57dc77-df03-42b3-b432-fc28b2674ae6",
   "metadata": {},
   "outputs": [],
   "source": [
    "@torch.no_grad()\n",
    "def evaluate(model, loader):\n",
    "    model.eval()\n",
    "    loss = 0.0\n",
    "    total = 0.0\n",
    "    criterion = TupleLoss()\n",
    "    for batch in loader:\n",
    "        batch = batch.to(device)\n",
    "        inputs = (batch.weights, batch.biases)\n",
    "        _ ,out = model(inputs)\n",
    "        loss += criterion(out, inputs)\n",
    "        total += 1\n",
    "\n",
    "    model.train()\n",
    "    avg_loss = loss / total\n",
    "\n",
    "    return avg_loss\n",
    "\n",
    "\n",
    "import logging\n",
    "import torch\n",
    "from tqdm import trange\n",
    "from torch.cuda.amp import GradScaler, autocast\n",
    "\n",
    "def train_model(model, train_loader, num_epochs = 1, accumulation_steps = 2, learning_rate = 1e-3):\n",
    "    criterion = TupleLoss()\n",
    "    epoch_iter = trange(num_epochs)\n",
    "    epoch_loss = -1\n",
    "    losses = []\n",
    "    optimizer = torch.optim.Adam(model.parameters(), lr=learning_rate)\n",
    "    scheduler = torch.optim.lr_scheduler.ReduceLROnPlateau(optimizer, mode='min', factor=0.01, patience=5)\n",
    "    previous_epoch_loss = 1000\n",
    "\n",
    "    for epoch in epoch_iter:\n",
    "        start = time.time()\n",
    "        total_loss = 0\n",
    "        counter = 0\n",
    "        \n",
    "        optimizer.zero_grad()  # Initialize optimizer's gradients at the start of each epoch\n",
    "        \n",
    "        for i, batch in enumerate(train_loader):\n",
    "            model.train() \n",
    "#             batch = batch.to(device)\n",
    "            out = model(batch)\n",
    "            loss = criterion(batch, out)#/accumulation_steps\n",
    "\n",
    "            del out, batch\n",
    "            torch.cuda.empty_cache()  # Clear memory\n",
    "            loss.backward() \n",
    "            \n",
    "            total_loss += loss.item() * accumulation_steps  # Scale back accumulated loss\n",
    "            counter += 1\n",
    "            \n",
    "            if (i + 1) % accumulation_steps == 0 or (i + 1) == len(train_loader):\n",
    "                optimizer.step()\n",
    "                optimizer.zero_grad()                        \n",
    "                epoch_loss = total_loss / counter\n",
    "                total_loss = 0\n",
    "                counter = 0\n",
    "            \n",
    "        losses.append(epoch_loss)\n",
    "        scheduler.step(epoch_loss)\n",
    "        end = time.time()\n",
    "        epoch_iter.set_description(\n",
    "            f\"[{epoch} {i+1}], train loss: {loss.item():.5f}, epoch loss: {epoch_loss:.5f}, epoch time: {((end-start)):.3f}\"\n",
    "        )\n",
    "        if epoch % 5 == 0:\n",
    "            batch = next(iter(train_loader))\n",
    "            model.eval() \n",
    "            \n",
    "#             batch = batch.to(device)\n",
    "#             inputs = (batch.weights, batch.biases)\n",
    "            out = model(batch)\n",
    "            \n",
    "            sampled_mlp = sample_first_mlp_from_batch(out)\n",
    "            recon_test_acc = test_mlp(sampled_mlp, test_loader)\n",
    "            print(f\"Epoch {epoch + 1} sample reconstruction accuracy: {recon_test_acc}\")\n",
    "\n",
    "#         if epoch_loss < previous_epoch_loss:\n",
    "#             model_path = f\"Outputs/model_MLP_REBASIN.pth\"\n",
    "#             torch.save(model.state_dict(), model_path)\n",
    "#             previous_epoch_loss = epoch_loss\n",
    "            \n",
    "#         if (epoch + 1) % 25 == 0:\n",
    "#              print(evaluate(model, test_loader))\n",
    "\n",
    "    print(\"Training complete!\")\n",
    "    steps_holder = np.linspace(0, len(losses), len(losses)) # this plot doesn't make sense. \n",
    "    plt.plot(steps_holder, losses)\n",
    "    plt.title(f\"Epoch Losses of Time\")\n",
    "    plt.xlabel(f\"Epoch Number\")\n",
    "    plt.ylabel(f\"Epoch Loss\")\n"
   ]
  },
  {
   "cell_type": "code",
   "execution_count": 38,
   "id": "55aba589-a062-4c1f-90b4-296025e998bd",
   "metadata": {},
   "outputs": [
    {
     "name": "stdout",
     "output_type": "stream",
     "text": [
      "(torch.Size([196, 32]), torch.Size([32, 32]), torch.Size([32, 10])) (torch.Size([32]), torch.Size([32]), torch.Size([10]))\n"
     ]
    }
   ],
   "source": [
    "rebasined_data = dataset.__getitem__(0)\n",
    "weight_shapes = tuple(w.shape[:2] for w in rebasined_data[0])\n",
    "bias_shapes = tuple(b.shape[:1] for b in rebasined_data[1])\n",
    "print(weight_shapes, bias_shapes)"
   ]
  },
  {
   "cell_type": "code",
   "execution_count": 39,
   "id": "68ff5b02-f5eb-4065-8cf8-8379bc84542e",
   "metadata": {},
   "outputs": [
    {
     "name": "stdout",
     "output_type": "stream",
     "text": [
      "Model has: 19309834 learnable params.\n"
     ]
    }
   ],
   "source": [
    "model = DeepSetAutoEncoder(weight_shapes, bias_shapes)\n",
    "print(f\"Model has: {count_parameters(model)} learnable params.\")"
   ]
  },
  {
   "cell_type": "code",
   "execution_count": 40,
   "id": "fc379178-5042-4fcd-889e-3a5c735b607a",
   "metadata": {},
   "outputs": [
    {
     "name": "stderr",
     "output_type": "stream",
     "text": [
      "[0 25], train loss: 0.02085, epoch loss: 0.08340, epoch time: 5.109:   4%|▍         | 1/25 [00:08<03:27,  8.66s/it]"
     ]
    },
    {
     "name": "stdout",
     "output_type": "stream",
     "text": [
      "Epoch 1 sample reconstruction accuracy: 7.22\n"
     ]
    },
    {
     "name": "stderr",
     "output_type": "stream",
     "text": [
      "[5 25], train loss: 0.00740, epoch loss: 0.02958, epoch time: 4.663:  24%|██▍       | 6/25 [00:35<01:56,  6.16s/it]"
     ]
    },
    {
     "name": "stdout",
     "output_type": "stream",
     "text": [
      "Epoch 6 sample reconstruction accuracy: 10.03\n"
     ]
    },
    {
     "name": "stderr",
     "output_type": "stream",
     "text": [
      "[10 25], train loss: 0.00514, epoch loss: 0.02054, epoch time: 4.716:  44%|████▍     | 11/25 [01:02<01:23,  5.96s/it]"
     ]
    },
    {
     "name": "stdout",
     "output_type": "stream",
     "text": [
      "Epoch 11 sample reconstruction accuracy: 10.15\n"
     ]
    },
    {
     "name": "stderr",
     "output_type": "stream",
     "text": [
      "[15 25], train loss: 0.00695, epoch loss: 0.02782, epoch time: 4.592:  64%|██████▍   | 16/25 [01:29<00:53,  5.94s/it]"
     ]
    },
    {
     "name": "stdout",
     "output_type": "stream",
     "text": [
      "Epoch 16 sample reconstruction accuracy: 12.61\n"
     ]
    },
    {
     "name": "stderr",
     "output_type": "stream",
     "text": [
      "[20 25], train loss: 0.00346, epoch loss: 0.01386, epoch time: 4.759:  84%|████████▍ | 21/25 [01:56<00:23,  5.99s/it]"
     ]
    },
    {
     "name": "stdout",
     "output_type": "stream",
     "text": [
      "Epoch 21 sample reconstruction accuracy: 10.63\n"
     ]
    },
    {
     "name": "stderr",
     "output_type": "stream",
     "text": [
      "[24 25], train loss: 0.00456, epoch loss: 0.01824, epoch time: 4.678: 100%|██████████| 25/25 [02:15<00:00,  5.44s/it]"
     ]
    },
    {
     "name": "stdout",
     "output_type": "stream",
     "text": [
      "Training complete!\n"
     ]
    },
    {
     "name": "stderr",
     "output_type": "stream",
     "text": [
      "\n"
     ]
    },
    {
     "data": {
      "image/png": "[encoded data removed]",
      "text/plain": [
       "<Figure size 432x288 with 1 Axes>"
      ]
     },
     "metadata": {
      "needs_background": "light"
     },
     "output_type": "display_data"
    }
   ],
   "source": [
    "train_model(model, dataloader, num_epochs = 25, accumulation_steps = 4, learning_rate = 3e-4)"
   ]
  },
  {
   "cell_type": "markdown",
   "id": "11bdae24-b155-4431-a29c-56aee1f1be1b",
   "metadata": {},
   "source": [
    "# Examine performance:"
   ]
  },
  {
   "cell_type": "code",
   "execution_count": 45,
   "id": "991e3698-b1f3-4a23-bda9-dad355ebde43",
   "metadata": {},
   "outputs": [],
   "source": [
    "dumb = next(iter(dataloader))\n",
    "dumb_recon = model(dumb)"
   ]
  },
  {
   "cell_type": "code",
   "execution_count": 46,
   "id": "f4e0acee-e75d-4488-b3c6-13c15699ed03",
   "metadata": {},
   "outputs": [
    {
     "name": "stdout",
     "output_type": "stream",
     "text": [
      "Input MLP test performance:\n"
     ]
    },
    {
     "data": {
      "text/plain": [
       "92.71"
      ]
     },
     "execution_count": 46,
     "metadata": {},
     "output_type": "execute_result"
    }
   ],
   "source": [
    "print(f\"Input MLP test performance:\")\n",
    "sampled_mlp = sample_first_mlp_from_batch(dumb)\n",
    "test_mlp(sampled_mlp, test_loader)"
   ]
  },
  {
   "cell_type": "code",
   "execution_count": 47,
   "id": "97922754-7f3c-4bca-9cba-173656b8052f",
   "metadata": {},
   "outputs": [
    {
     "name": "stdout",
     "output_type": "stream",
     "text": [
      "Output MLP test performance:\n"
     ]
    },
    {
     "data": {
      "text/plain": [
       "14.87"
      ]
     },
     "execution_count": 47,
     "metadata": {},
     "output_type": "execute_result"
    }
   ],
   "source": [
    "print(f\"Output MLP test performance:\")\n",
    "sampled_mlp = sample_first_mlp_from_batch(dumb_recon)\n",
    "test_mlp(sampled_mlp, test_loader)"
   ]
  },
  {
   "cell_type": "code",
   "execution_count": 48,
   "id": "474c466a-3096-4334-869d-d9fed9edb977",
   "metadata": {},
   "outputs": [],
   "source": [
    "k = 25 #dataset.__len__()\n",
    "true = []\n",
    "recon = []\n",
    "for i in range(k):\n",
    "    dumb = next(iter(dataloader))\n",
    "    dumb_recon = model(dumb)\n",
    "    true.append(test_mlp(sample_first_mlp_from_batch(dumb), test_loader))\n",
    "    recon.append(test_mlp(sample_first_mlp_from_batch(dumb_recon), test_loader))"
   ]
  },
  {
   "cell_type": "code",
   "execution_count": 49,
   "id": "848d5e73-d540-4d34-a87a-6cb0cac328a6",
   "metadata": {},
   "outputs": [
    {
     "data": {
      "image/png": "[encoded data removed]",
      "text/plain": [
       "<Figure size 864x576 with 1 Axes>"
      ]
     },
     "metadata": {
      "needs_background": "light"
     },
     "output_type": "display_data"
    }
   ],
   "source": [
    "plt.figure(figsize=(12, 8))\n",
    "plt.scatter(true, recon)\n",
    "plt.plot( (0,100), (0,100) )\n",
    "plt.xlim(-0.5, 100.5)\n",
    "plt.ylim(-0.5, 100.5)\n",
    "\n",
    "plt.xlabel(f\"Input MLP test performance\")\n",
    "plt.ylabel(f\"Output MLP test performance\")\n",
    "plt.grid()\n",
    "plt.show()"
   ]
  },
  {
   "cell_type": "markdown",
   "id": "1b57a608-23c4-414b-b9ee-ec544042fc69",
   "metadata": {},
   "source": [
    "# Compare fresh MLP training vs retraining generated version"
   ]
  },
  {
   "cell_type": "code",
   "execution_count": null,
   "id": "da135e58-db56-4dd6-b719-91ca35b010cf",
   "metadata": {},
   "outputs": [],
   "source": []
  },
  {
   "cell_type": "code",
   "execution_count": 50,
   "id": "49c96a92-0ae8-4930-9b60-af9efafa53d5",
   "metadata": {},
   "outputs": [],
   "source": [
    "def train_mlp(model, epochs=3):\n",
    "    criterion = nn.CrossEntropyLoss()\n",
    "    optimizer = Adam(model.parameters(), lr=0.001)\n",
    "    \n",
    "    model.train()\n",
    "    for epoch in range(epochs):\n",
    "        for data, target in train_loader:\n",
    "            data, target = data.to(device), target.to(device)\n",
    "            optimizer.zero_grad()\n",
    "            output = model(data)\n",
    "            loss = criterion(output, target)\n",
    "            loss.backward()\n",
    "            optimizer.step()\n",
    "\n",
    "def test_mlp(model, test_loader):\n",
    "    model.eval()  # Set the model to evaluation mode\n",
    "    correct = 0\n",
    "    total = 0\n",
    "    with torch.no_grad():  # No need to compute gradients for evaluation\n",
    "        for data, target in test_loader:\n",
    "            output = model(data)\n",
    "            _, predicted = torch.max(output, 1)\n",
    "            total += target.size(0)\n",
    "            correct += (predicted == target).sum().item()\n",
    "    \n",
    "    accuracy = 100 * correct / total\n",
    "    return accuracy"
   ]
  },
  {
   "cell_type": "code",
   "execution_count": 51,
   "id": "260eaaa6-c773-4897-bbff-a7bf15244479",
   "metadata": {},
   "outputs": [
    {
     "data": {
      "image/png": "[encoded data removed]",
      "text/plain": [
       "<Figure size 432x288 with 1 Axes>"
      ]
     },
     "metadata": {
      "needs_background": "light"
     },
     "output_type": "display_data"
    }
   ],
   "source": [
    "test_range = 5\n",
    "\n",
    "dumb = next(iter(dataloader))\n",
    "dumb_recon = model(dumb)\n",
    "\n",
    "new_model = sample_first_mlp_from_batch(dumb_recon)\n",
    "old_model = MLP(init_type='xavier', seed=np.random.randint(10))\n",
    "\n",
    "recon_acc, org_acc = [], []\n",
    "\n",
    "for i in range(test_range):\n",
    "    train_mlp( new_model, epochs = 1 ) \n",
    "    train_mlp( old_model, epochs = 1 )\n",
    "    \n",
    "    org_acc.append(test_mlp(old_model, test_loader))\n",
    "    recon_acc.append(test_mlp(new_model, test_loader))\n",
    "    \n",
    "\n",
    "x = np.linspace(0, test_range, test_range)\n",
    "plt.scatter(x, org_acc, label = f\"Fresh Initialization over {test_range} epoch(s)\", color = 'b')\n",
    "plt.scatter(x, recon_acc, label = f\"Autoencoder Recon over {test_range} epoch(s)\", color = 'r')\n",
    "plt.legend()\n",
    "plt.show()"
   ]
  },
  {
   "cell_type": "code",
   "execution_count": 53,
   "id": "f5619e91-a5a4-44cf-aaf4-0d9bf820d983",
   "metadata": {},
   "outputs": [
    {
     "data": {
      "image/png": "[encoded data removed]",
      "text/plain": [
       "<Figure size 720x432 with 1 Axes>"
      ]
     },
     "metadata": {
      "needs_background": "light"
     },
     "output_type": "display_data"
    }
   ],
   "source": [
    "x = np.linspace(0, test_range, test_range)\n",
    "plt.figure(figsize=(10, 6))\n",
    "plt.scatter(x+1, org_acc, label = f\"Fresh Initialization over {test_range} epoch(s)\", color = 'b')\n",
    "plt.scatter(x+1, recon_acc, label = f\"Autoencoder Recon over {test_range} epoch(s)\", color = 'r')\n",
    "plt.title(f\"Deep Sets vs fresh initialization\")\n",
    "plt.legend()\n",
    "plt.show()"
   ]
  },
  {
   "cell_type": "markdown",
   "id": "37f50f36-77fe-4b74-9e35-451033b9dbff",
   "metadata": {},
   "source": [
    "# Tuning:"
   ]
  },
  {
   "cell_type": "code",
   "execution_count": null,
   "id": "8b112d46-8ae1-41c7-8ab2-42e1183a297e",
   "metadata": {},
   "outputs": [],
   "source": [
    "model = DeepSetAutoEncoder(weight_shapes, bias_shapes)\n",
    "print(f\"Model has: {count_parameters(model)} learnable params.\")\n",
    "\n",
    "train_model(model, dataloader, num_epochs = 25, accumulation_steps = 8, learning_rate = 1e-3)\n"
   ]
  },
  {
   "cell_type": "code",
   "execution_count": 111,
   "id": "c4bbc929-997f-415d-b5c9-cb2d0b33299a",
   "metadata": {
    "collapsed": true,
    "jupyter": {
     "outputs_hidden": true
    },
    "tags": []
   },
   "outputs": [
    {
     "name": "stderr",
     "output_type": "stream",
     "text": [
      "[0 25], train loss: 0.02291, epoch loss: 0.09162, epoch time: 4.700:  20%|██        | 1/5 [00:08<00:33,  8.28s/it]"
     ]
    },
    {
     "name": "stdout",
     "output_type": "stream",
     "text": [
      "Epoch 1 sample reconstruction accuracy: 9.1\n"
     ]
    },
    {
     "name": "stderr",
     "output_type": "stream",
     "text": [
      "[4 25], train loss: 0.01636, epoch loss: 0.06546, epoch time: 4.535: 100%|██████████| 5/5 [00:26<00:00,  5.20s/it]\n"
     ]
    },
    {
     "name": "stdout",
     "output_type": "stream",
     "text": [
      "Training complete!\n"
     ]
    },
    {
     "name": "stderr",
     "output_type": "stream",
     "text": [
      "  0%|          | 0/5 [00:00<?, ?it/s]"
     ]
    },
    {
     "name": "stdout",
     "output_type": "stream",
     "text": [
      "Output MLP test performance: 6.5\n",
      "Output MLP Loss: 0.002712698420509696\n",
      "With LR: 0.0003\n"
     ]
    },
    {
     "name": "stderr",
     "output_type": "stream",
     "text": [
      "[0 25], train loss: 0.03873, epoch loss: 0.15494, epoch time: 4.451:  20%|██        | 1/5 [00:07<00:31,  7.98s/it]"
     ]
    },
    {
     "name": "stdout",
     "output_type": "stream",
     "text": [
      "Epoch 1 sample reconstruction accuracy: 7.0\n"
     ]
    },
    {
     "name": "stderr",
     "output_type": "stream",
     "text": [
      "[4 25], train loss: 0.01618, epoch loss: 0.06472, epoch time: 4.309: 100%|██████████| 5/5 [00:25<00:00,  5.11s/it]\n"
     ]
    },
    {
     "name": "stdout",
     "output_type": "stream",
     "text": [
      "Training complete!\n"
     ]
    },
    {
     "name": "stderr",
     "output_type": "stream",
     "text": [
      "  0%|          | 0/5 [00:00<?, ?it/s]"
     ]
    },
    {
     "name": "stdout",
     "output_type": "stream",
     "text": [
      "Output MLP test performance: 9.99\n",
      "Output MLP Loss: 0.01009595301002264\n",
      "With LR: 0.0005\n"
     ]
    },
    {
     "name": "stderr",
     "output_type": "stream",
     "text": [
      "[0 25], train loss: 0.08769, epoch loss: 0.35078, epoch time: 4.675:  20%|██        | 1/5 [00:08<00:33,  8.32s/it]"
     ]
    },
    {
     "name": "stdout",
     "output_type": "stream",
     "text": [
      "Epoch 1 sample reconstruction accuracy: 8.16\n"
     ]
    },
    {
     "name": "stderr",
     "output_type": "stream",
     "text": [
      "[4 25], train loss: 0.01686, epoch loss: 0.06745, epoch time: 4.536: 100%|██████████| 5/5 [00:26<00:00,  5.30s/it]\n"
     ]
    },
    {
     "name": "stdout",
     "output_type": "stream",
     "text": [
      "Training complete!\n"
     ]
    },
    {
     "name": "stderr",
     "output_type": "stream",
     "text": [
      "  0%|          | 0/5 [00:00<?, ?it/s]"
     ]
    },
    {
     "name": "stdout",
     "output_type": "stream",
     "text": [
      "Output MLP test performance: 10.16\n",
      "Output MLP Loss: 0.010371211916208267\n",
      "With LR: 0.0008\n"
     ]
    },
    {
     "name": "stderr",
     "output_type": "stream",
     "text": [
      "[0 25], train loss: 0.06454, epoch loss: 0.25816, epoch time: 4.540:  20%|██        | 1/5 [00:08<00:32,  8.07s/it]"
     ]
    },
    {
     "name": "stdout",
     "output_type": "stream",
     "text": [
      "Epoch 1 sample reconstruction accuracy: 12.21\n"
     ]
    },
    {
     "name": "stderr",
     "output_type": "stream",
     "text": [
      "[4 25], train loss: 0.01328, epoch loss: 0.05311, epoch time: 4.497: 100%|██████████| 5/5 [00:26<00:00,  5.21s/it]\n"
     ]
    },
    {
     "name": "stdout",
     "output_type": "stream",
     "text": [
      "Training complete!\n"
     ]
    },
    {
     "name": "stderr",
     "output_type": "stream",
     "text": [
      "  0%|          | 0/5 [00:00<?, ?it/s]"
     ]
    },
    {
     "name": "stdout",
     "output_type": "stream",
     "text": [
      "Output MLP test performance: 10.27\n",
      "Output MLP Loss: 0.007951272651553154\n",
      "With LR: 0.001\n"
     ]
    },
    {
     "name": "stderr",
     "output_type": "stream",
     "text": [
      "[0 25], train loss: 14.81664, epoch loss: 59.26658, epoch time: 4.566:  20%|██        | 1/5 [00:08<00:32,  8.10s/it]"
     ]
    },
    {
     "name": "stdout",
     "output_type": "stream",
     "text": [
      "Epoch 1 sample reconstruction accuracy: 11.83\n"
     ]
    },
    {
     "name": "stderr",
     "output_type": "stream",
     "text": [
      "[4 25], train loss: 48.64807, epoch loss: 194.59229, epoch time: 4.516: 100%|██████████| 5/5 [00:26<00:00,  5.20s/it]\n"
     ]
    },
    {
     "name": "stdout",
     "output_type": "stream",
     "text": [
      "Training complete!\n"
     ]
    },
    {
     "name": "stderr",
     "output_type": "stream",
     "text": [
      "  0%|          | 0/5 [00:00<?, ?it/s]"
     ]
    },
    {
     "name": "stdout",
     "output_type": "stream",
     "text": [
      "Output MLP test performance: 9.58\n",
      "Output MLP Loss: 47.397762298583984\n",
      "With LR: 0.003\n"
     ]
    },
    {
     "name": "stderr",
     "output_type": "stream",
     "text": [
      "[0 25], train loss: 2045.45435, epoch loss: 8181.81738, epoch time: 4.641:  20%|██        | 1/5 [00:08<00:32,  8.19s/it]"
     ]
    },
    {
     "name": "stdout",
     "output_type": "stream",
     "text": [
      "Epoch 1 sample reconstruction accuracy: 14.71\n"
     ]
    },
    {
     "name": "stderr",
     "output_type": "stream",
     "text": [
      "[4 25], train loss: 23.12633, epoch loss: 92.50530, epoch time: 4.310: 100%|██████████| 5/5 [00:25<00:00,  5.16s/it]     \n"
     ]
    },
    {
     "name": "stdout",
     "output_type": "stream",
     "text": [
      "Training complete!\n"
     ]
    },
    {
     "name": "stderr",
     "output_type": "stream",
     "text": [
      "  0%|          | 0/5 [00:00<?, ?it/s]"
     ]
    },
    {
     "name": "stdout",
     "output_type": "stream",
     "text": [
      "Output MLP test performance: 9.7\n",
      "Output MLP Loss: 135.54257202148438\n",
      "With LR: 0.005\n"
     ]
    },
    {
     "name": "stderr",
     "output_type": "stream",
     "text": [
      "[0 25], train loss: 9119.08496, epoch loss: 36476.33984, epoch time: 4.596:  20%|██        | 1/5 [00:08<00:32,  8.15s/it]"
     ]
    },
    {
     "name": "stdout",
     "output_type": "stream",
     "text": [
      "Epoch 1 sample reconstruction accuracy: 11.66\n"
     ]
    },
    {
     "name": "stderr",
     "output_type": "stream",
     "text": [
      "[4 25], train loss: 32279.52734, epoch loss: 129118.10938, epoch time: 4.469: 100%|██████████| 5/5 [00:26<00:00,  5.21s/it]\n"
     ]
    },
    {
     "name": "stdout",
     "output_type": "stream",
     "text": [
      "Training complete!\n",
      "Output MLP test performance: 3.92\n",
      "Output MLP Loss: 393298.71875\n",
      "With LR: 0.008\n"
     ]
    },
    {
     "ename": "RuntimeError",
     "evalue": "Can't call numpy() on Tensor that requires grad. Use tensor.detach().numpy() instead.",
     "output_type": "error",
     "traceback": [
      "\u001b[0;31m---------------------------------------------------------------------------\u001b[0m",
      "\u001b[0;31mRuntimeError\u001b[0m                              Traceback (most recent call last)",
      "\u001b[0;32m<ipython-input-111-2031ecfa563b>\u001b[0m in \u001b[0;36m<module>\u001b[0;34m\u001b[0m\n\u001b[1;32m     25\u001b[0m \u001b[0;34m\u001b[0m\u001b[0m\n\u001b[1;32m     26\u001b[0m \u001b[0;34m\u001b[0m\u001b[0m\n\u001b[0;32m---> 27\u001b[0;31m \u001b[0mplt\u001b[0m\u001b[0;34m.\u001b[0m\u001b[0mscatter\u001b[0m\u001b[0;34m(\u001b[0m\u001b[0mlearning_rates\u001b[0m\u001b[0;34m,\u001b[0m \u001b[0mlosses\u001b[0m\u001b[0;34m)\u001b[0m\u001b[0;34m\u001b[0m\u001b[0;34m\u001b[0m\u001b[0m\n\u001b[0m",
      "\u001b[0;32m/shared/centos7/anaconda3/2021.05/lib/python3.8/site-packages/matplotlib/pyplot.py\u001b[0m in \u001b[0;36mscatter\u001b[0;34m(x, y, s, c, marker, cmap, norm, vmin, vmax, alpha, linewidths, verts, edgecolors, plotnonfinite, data, **kwargs)\u001b[0m\n\u001b[1;32m   2888\u001b[0m         \u001b[0mverts\u001b[0m\u001b[0;34m=\u001b[0m\u001b[0mcbook\u001b[0m\u001b[0;34m.\u001b[0m\u001b[0mdeprecation\u001b[0m\u001b[0;34m.\u001b[0m\u001b[0m_deprecated_parameter\u001b[0m\u001b[0;34m,\u001b[0m\u001b[0;34m\u001b[0m\u001b[0;34m\u001b[0m\u001b[0m\n\u001b[1;32m   2889\u001b[0m         edgecolors=None, *, plotnonfinite=False, data=None, **kwargs):\n\u001b[0;32m-> 2890\u001b[0;31m     __ret = gca().scatter(\n\u001b[0m\u001b[1;32m   2891\u001b[0m         \u001b[0mx\u001b[0m\u001b[0;34m,\u001b[0m \u001b[0my\u001b[0m\u001b[0;34m,\u001b[0m \u001b[0ms\u001b[0m\u001b[0;34m=\u001b[0m\u001b[0ms\u001b[0m\u001b[0;34m,\u001b[0m \u001b[0mc\u001b[0m\u001b[0;34m=\u001b[0m\u001b[0mc\u001b[0m\u001b[0;34m,\u001b[0m \u001b[0mmarker\u001b[0m\u001b[0;34m=\u001b[0m\u001b[0mmarker\u001b[0m\u001b[0;34m,\u001b[0m \u001b[0mcmap\u001b[0m\u001b[0;34m=\u001b[0m\u001b[0mcmap\u001b[0m\u001b[0;34m,\u001b[0m \u001b[0mnorm\u001b[0m\u001b[0;34m=\u001b[0m\u001b[0mnorm\u001b[0m\u001b[0;34m,\u001b[0m\u001b[0;34m\u001b[0m\u001b[0;34m\u001b[0m\u001b[0m\n\u001b[1;32m   2892\u001b[0m         \u001b[0mvmin\u001b[0m\u001b[0;34m=\u001b[0m\u001b[0mvmin\u001b[0m\u001b[0;34m,\u001b[0m \u001b[0mvmax\u001b[0m\u001b[0;34m=\u001b[0m\u001b[0mvmax\u001b[0m\u001b[0;34m,\u001b[0m \u001b[0malpha\u001b[0m\u001b[0;34m=\u001b[0m\u001b[0malpha\u001b[0m\u001b[0;34m,\u001b[0m \u001b[0mlinewidths\u001b[0m\u001b[0;34m=\u001b[0m\u001b[0mlinewidths\u001b[0m\u001b[0;34m,\u001b[0m\u001b[0;34m\u001b[0m\u001b[0;34m\u001b[0m\u001b[0m\n",
      "\u001b[0;32m/shared/centos7/anaconda3/2021.05/lib/python3.8/site-packages/matplotlib/__init__.py\u001b[0m in \u001b[0;36minner\u001b[0;34m(ax, data, *args, **kwargs)\u001b[0m\n\u001b[1;32m   1445\u001b[0m     \u001b[0;32mdef\u001b[0m \u001b[0minner\u001b[0m\u001b[0;34m(\u001b[0m\u001b[0max\u001b[0m\u001b[0;34m,\u001b[0m \u001b[0;34m*\u001b[0m\u001b[0margs\u001b[0m\u001b[0;34m,\u001b[0m \u001b[0mdata\u001b[0m\u001b[0;34m=\u001b[0m\u001b[0;32mNone\u001b[0m\u001b[0;34m,\u001b[0m \u001b[0;34m**\u001b[0m\u001b[0mkwargs\u001b[0m\u001b[0;34m)\u001b[0m\u001b[0;34m:\u001b[0m\u001b[0;34m\u001b[0m\u001b[0;34m\u001b[0m\u001b[0m\n\u001b[1;32m   1446\u001b[0m         \u001b[0;32mif\u001b[0m \u001b[0mdata\u001b[0m \u001b[0;32mis\u001b[0m \u001b[0;32mNone\u001b[0m\u001b[0;34m:\u001b[0m\u001b[0;34m\u001b[0m\u001b[0;34m\u001b[0m\u001b[0m\n\u001b[0;32m-> 1447\u001b[0;31m             \u001b[0;32mreturn\u001b[0m \u001b[0mfunc\u001b[0m\u001b[0;34m(\u001b[0m\u001b[0max\u001b[0m\u001b[0;34m,\u001b[0m \u001b[0;34m*\u001b[0m\u001b[0mmap\u001b[0m\u001b[0;34m(\u001b[0m\u001b[0msanitize_sequence\u001b[0m\u001b[0;34m,\u001b[0m \u001b[0margs\u001b[0m\u001b[0;34m)\u001b[0m\u001b[0;34m,\u001b[0m \u001b[0;34m**\u001b[0m\u001b[0mkwargs\u001b[0m\u001b[0;34m)\u001b[0m\u001b[0;34m\u001b[0m\u001b[0;34m\u001b[0m\u001b[0m\n\u001b[0m\u001b[1;32m   1448\u001b[0m \u001b[0;34m\u001b[0m\u001b[0m\n\u001b[1;32m   1449\u001b[0m         \u001b[0mbound\u001b[0m \u001b[0;34m=\u001b[0m \u001b[0mnew_sig\u001b[0m\u001b[0;34m.\u001b[0m\u001b[0mbind\u001b[0m\u001b[0;34m(\u001b[0m\u001b[0max\u001b[0m\u001b[0;34m,\u001b[0m \u001b[0;34m*\u001b[0m\u001b[0margs\u001b[0m\u001b[0;34m,\u001b[0m \u001b[0;34m**\u001b[0m\u001b[0mkwargs\u001b[0m\u001b[0;34m)\u001b[0m\u001b[0;34m\u001b[0m\u001b[0;34m\u001b[0m\u001b[0m\n",
      "\u001b[0;32m/shared/centos7/anaconda3/2021.05/lib/python3.8/site-packages/matplotlib/cbook/deprecation.py\u001b[0m in \u001b[0;36mwrapper\u001b[0;34m(*inner_args, **inner_kwargs)\u001b[0m\n\u001b[1;32m    409\u001b[0m                          \u001b[0;32melse\u001b[0m \u001b[0mdeprecation_addendum\u001b[0m\u001b[0;34m,\u001b[0m\u001b[0;34m\u001b[0m\u001b[0;34m\u001b[0m\u001b[0m\n\u001b[1;32m    410\u001b[0m                 **kwargs)\n\u001b[0;32m--> 411\u001b[0;31m         \u001b[0;32mreturn\u001b[0m \u001b[0mfunc\u001b[0m\u001b[0;34m(\u001b[0m\u001b[0;34m*\u001b[0m\u001b[0minner_args\u001b[0m\u001b[0;34m,\u001b[0m \u001b[0;34m**\u001b[0m\u001b[0minner_kwargs\u001b[0m\u001b[0;34m)\u001b[0m\u001b[0;34m\u001b[0m\u001b[0;34m\u001b[0m\u001b[0m\n\u001b[0m\u001b[1;32m    412\u001b[0m \u001b[0;34m\u001b[0m\u001b[0m\n\u001b[1;32m    413\u001b[0m     \u001b[0;32mreturn\u001b[0m \u001b[0mwrapper\u001b[0m\u001b[0;34m\u001b[0m\u001b[0;34m\u001b[0m\u001b[0m\n",
      "\u001b[0;32m/shared/centos7/anaconda3/2021.05/lib/python3.8/site-packages/matplotlib/axes/_axes.py\u001b[0m in \u001b[0;36mscatter\u001b[0;34m(self, x, y, s, c, marker, cmap, norm, vmin, vmax, alpha, linewidths, verts, edgecolors, plotnonfinite, **kwargs)\u001b[0m\n\u001b[1;32m   4437\u001b[0m         \u001b[0;31m# unless its argument is a masked array.\u001b[0m\u001b[0;34m\u001b[0m\u001b[0;34m\u001b[0m\u001b[0;34m\u001b[0m\u001b[0m\n\u001b[1;32m   4438\u001b[0m         \u001b[0mx\u001b[0m \u001b[0;34m=\u001b[0m \u001b[0mnp\u001b[0m\u001b[0;34m.\u001b[0m\u001b[0mma\u001b[0m\u001b[0;34m.\u001b[0m\u001b[0mravel\u001b[0m\u001b[0;34m(\u001b[0m\u001b[0mx\u001b[0m\u001b[0;34m)\u001b[0m\u001b[0;34m\u001b[0m\u001b[0;34m\u001b[0m\u001b[0m\n\u001b[0;32m-> 4439\u001b[0;31m         \u001b[0my\u001b[0m \u001b[0;34m=\u001b[0m \u001b[0mnp\u001b[0m\u001b[0;34m.\u001b[0m\u001b[0mma\u001b[0m\u001b[0;34m.\u001b[0m\u001b[0mravel\u001b[0m\u001b[0;34m(\u001b[0m\u001b[0my\u001b[0m\u001b[0;34m)\u001b[0m\u001b[0;34m\u001b[0m\u001b[0;34m\u001b[0m\u001b[0m\n\u001b[0m\u001b[1;32m   4440\u001b[0m         \u001b[0;32mif\u001b[0m \u001b[0mx\u001b[0m\u001b[0;34m.\u001b[0m\u001b[0msize\u001b[0m \u001b[0;34m!=\u001b[0m \u001b[0my\u001b[0m\u001b[0;34m.\u001b[0m\u001b[0msize\u001b[0m\u001b[0;34m:\u001b[0m\u001b[0;34m\u001b[0m\u001b[0;34m\u001b[0m\u001b[0m\n\u001b[1;32m   4441\u001b[0m             \u001b[0;32mraise\u001b[0m \u001b[0mValueError\u001b[0m\u001b[0;34m(\u001b[0m\u001b[0;34m\"x and y must be the same size\"\u001b[0m\u001b[0;34m)\u001b[0m\u001b[0;34m\u001b[0m\u001b[0;34m\u001b[0m\u001b[0m\n",
      "\u001b[0;32m~/.local/lib/python3.8/site-packages/numpy/ma/core.py\u001b[0m in \u001b[0;36m__call__\u001b[0;34m(self, a, *args, **params)\u001b[0m\n\u001b[1;32m   6850\u001b[0m             \u001b[0ma\u001b[0m\u001b[0;34m,\u001b[0m \u001b[0margs\u001b[0m\u001b[0;34m[\u001b[0m\u001b[0;36m0\u001b[0m\u001b[0;34m]\u001b[0m \u001b[0;34m=\u001b[0m \u001b[0margs\u001b[0m\u001b[0;34m[\u001b[0m\u001b[0;36m0\u001b[0m\u001b[0;34m]\u001b[0m\u001b[0;34m,\u001b[0m \u001b[0ma\u001b[0m\u001b[0;34m\u001b[0m\u001b[0;34m\u001b[0m\u001b[0m\n\u001b[1;32m   6851\u001b[0m \u001b[0;34m\u001b[0m\u001b[0m\n\u001b[0;32m-> 6852\u001b[0;31m         \u001b[0mmarr\u001b[0m \u001b[0;34m=\u001b[0m \u001b[0masanyarray\u001b[0m\u001b[0;34m(\u001b[0m\u001b[0ma\u001b[0m\u001b[0;34m)\u001b[0m\u001b[0;34m\u001b[0m\u001b[0;34m\u001b[0m\u001b[0m\n\u001b[0m\u001b[1;32m   6853\u001b[0m         \u001b[0mmethod_name\u001b[0m \u001b[0;34m=\u001b[0m \u001b[0mself\u001b[0m\u001b[0;34m.\u001b[0m\u001b[0m__name__\u001b[0m\u001b[0;34m\u001b[0m\u001b[0;34m\u001b[0m\u001b[0m\n\u001b[1;32m   6854\u001b[0m         \u001b[0mmethod\u001b[0m \u001b[0;34m=\u001b[0m \u001b[0mgetattr\u001b[0m\u001b[0;34m(\u001b[0m\u001b[0mtype\u001b[0m\u001b[0;34m(\u001b[0m\u001b[0mmarr\u001b[0m\u001b[0;34m)\u001b[0m\u001b[0;34m,\u001b[0m \u001b[0mmethod_name\u001b[0m\u001b[0;34m,\u001b[0m \u001b[0;32mNone\u001b[0m\u001b[0;34m)\u001b[0m\u001b[0;34m\u001b[0m\u001b[0;34m\u001b[0m\u001b[0m\n",
      "\u001b[0;32m~/.local/lib/python3.8/site-packages/numpy/ma/core.py\u001b[0m in \u001b[0;36masanyarray\u001b[0;34m(a, dtype)\u001b[0m\n\u001b[1;32m   8130\u001b[0m     \u001b[0;32mif\u001b[0m \u001b[0misinstance\u001b[0m\u001b[0;34m(\u001b[0m\u001b[0ma\u001b[0m\u001b[0;34m,\u001b[0m \u001b[0mMaskedArray\u001b[0m\u001b[0;34m)\u001b[0m \u001b[0;32mand\u001b[0m \u001b[0;34m(\u001b[0m\u001b[0mdtype\u001b[0m \u001b[0;32mis\u001b[0m \u001b[0;32mNone\u001b[0m \u001b[0;32mor\u001b[0m \u001b[0mdtype\u001b[0m \u001b[0;34m==\u001b[0m \u001b[0ma\u001b[0m\u001b[0;34m.\u001b[0m\u001b[0mdtype\u001b[0m\u001b[0;34m)\u001b[0m\u001b[0;34m:\u001b[0m\u001b[0;34m\u001b[0m\u001b[0;34m\u001b[0m\u001b[0m\n\u001b[1;32m   8131\u001b[0m         \u001b[0;32mreturn\u001b[0m \u001b[0ma\u001b[0m\u001b[0;34m\u001b[0m\u001b[0;34m\u001b[0m\u001b[0m\n\u001b[0;32m-> 8132\u001b[0;31m     \u001b[0;32mreturn\u001b[0m \u001b[0mmasked_array\u001b[0m\u001b[0;34m(\u001b[0m\u001b[0ma\u001b[0m\u001b[0;34m,\u001b[0m \u001b[0mdtype\u001b[0m\u001b[0;34m=\u001b[0m\u001b[0mdtype\u001b[0m\u001b[0;34m,\u001b[0m \u001b[0mcopy\u001b[0m\u001b[0;34m=\u001b[0m\u001b[0;32mFalse\u001b[0m\u001b[0;34m,\u001b[0m \u001b[0mkeep_mask\u001b[0m\u001b[0;34m=\u001b[0m\u001b[0;32mTrue\u001b[0m\u001b[0;34m,\u001b[0m \u001b[0msubok\u001b[0m\u001b[0;34m=\u001b[0m\u001b[0;32mTrue\u001b[0m\u001b[0;34m)\u001b[0m\u001b[0;34m\u001b[0m\u001b[0;34m\u001b[0m\u001b[0m\n\u001b[0m\u001b[1;32m   8133\u001b[0m \u001b[0;34m\u001b[0m\u001b[0m\n\u001b[1;32m   8134\u001b[0m \u001b[0;34m\u001b[0m\u001b[0m\n",
      "\u001b[0;32m~/.local/lib/python3.8/site-packages/numpy/ma/core.py\u001b[0m in \u001b[0;36m__new__\u001b[0;34m(cls, data, mask, dtype, copy, subok, ndmin, fill_value, keep_mask, hard_mask, shrink, order)\u001b[0m\n\u001b[1;32m   2818\u001b[0m         \"\"\"\n\u001b[1;32m   2819\u001b[0m         \u001b[0;31m# Process data.\u001b[0m\u001b[0;34m\u001b[0m\u001b[0;34m\u001b[0m\u001b[0;34m\u001b[0m\u001b[0m\n\u001b[0;32m-> 2820\u001b[0;31m         _data = np.array(data, dtype=dtype, copy=copy,\n\u001b[0m\u001b[1;32m   2821\u001b[0m                          order=order, subok=True, ndmin=ndmin)\n\u001b[1;32m   2822\u001b[0m         \u001b[0m_baseclass\u001b[0m \u001b[0;34m=\u001b[0m \u001b[0mgetattr\u001b[0m\u001b[0;34m(\u001b[0m\u001b[0mdata\u001b[0m\u001b[0;34m,\u001b[0m \u001b[0;34m'_baseclass'\u001b[0m\u001b[0;34m,\u001b[0m \u001b[0mtype\u001b[0m\u001b[0;34m(\u001b[0m\u001b[0m_data\u001b[0m\u001b[0;34m)\u001b[0m\u001b[0;34m)\u001b[0m\u001b[0;34m\u001b[0m\u001b[0;34m\u001b[0m\u001b[0m\n",
      "\u001b[0;32m~/.local/lib/python3.8/site-packages/torch/_tensor.py\u001b[0m in \u001b[0;36m__array__\u001b[0;34m(self, dtype)\u001b[0m\n\u001b[1;32m   1085\u001b[0m             \u001b[0;32mreturn\u001b[0m \u001b[0mhandle_torch_function\u001b[0m\u001b[0;34m(\u001b[0m\u001b[0mTensor\u001b[0m\u001b[0;34m.\u001b[0m\u001b[0m__array__\u001b[0m\u001b[0;34m,\u001b[0m \u001b[0;34m(\u001b[0m\u001b[0mself\u001b[0m\u001b[0;34m,\u001b[0m\u001b[0;34m)\u001b[0m\u001b[0;34m,\u001b[0m \u001b[0mself\u001b[0m\u001b[0;34m,\u001b[0m \u001b[0mdtype\u001b[0m\u001b[0;34m=\u001b[0m\u001b[0mdtype\u001b[0m\u001b[0;34m)\u001b[0m\u001b[0;34m\u001b[0m\u001b[0;34m\u001b[0m\u001b[0m\n\u001b[1;32m   1086\u001b[0m         \u001b[0;32mif\u001b[0m \u001b[0mdtype\u001b[0m \u001b[0;32mis\u001b[0m \u001b[0;32mNone\u001b[0m\u001b[0;34m:\u001b[0m\u001b[0;34m\u001b[0m\u001b[0;34m\u001b[0m\u001b[0m\n\u001b[0;32m-> 1087\u001b[0;31m             \u001b[0;32mreturn\u001b[0m \u001b[0mself\u001b[0m\u001b[0;34m.\u001b[0m\u001b[0mnumpy\u001b[0m\u001b[0;34m(\u001b[0m\u001b[0;34m)\u001b[0m\u001b[0;34m\u001b[0m\u001b[0;34m\u001b[0m\u001b[0m\n\u001b[0m\u001b[1;32m   1088\u001b[0m         \u001b[0;32melse\u001b[0m\u001b[0;34m:\u001b[0m\u001b[0;34m\u001b[0m\u001b[0;34m\u001b[0m\u001b[0m\n\u001b[1;32m   1089\u001b[0m             \u001b[0;32mreturn\u001b[0m \u001b[0mself\u001b[0m\u001b[0;34m.\u001b[0m\u001b[0mnumpy\u001b[0m\u001b[0;34m(\u001b[0m\u001b[0;34m)\u001b[0m\u001b[0;34m.\u001b[0m\u001b[0mastype\u001b[0m\u001b[0;34m(\u001b[0m\u001b[0mdtype\u001b[0m\u001b[0;34m,\u001b[0m \u001b[0mcopy\u001b[0m\u001b[0;34m=\u001b[0m\u001b[0;32mFalse\u001b[0m\u001b[0;34m)\u001b[0m\u001b[0;34m\u001b[0m\u001b[0;34m\u001b[0m\u001b[0m\n",
      "\u001b[0;31mRuntimeError\u001b[0m: Can't call numpy() on Tensor that requires grad. Use tensor.detach().numpy() instead."
     ]
    },
    {
     "data": {
      "image/png": "[encoded data removed]",
      "text/plain": [
       "<Figure size 432x288 with 1 Axes>"
      ]
     },
     "metadata": {
      "needs_background": "light"
     },
     "output_type": "display_data"
    }
   ],
   "source": [
    "learning_rates = [3e-4, 5e-4, 8e-4, 1e-3, 3e-3, 5e-3, 8e-3]\n",
    "\n",
    "criterion = TupleLoss()\n",
    "depth = 5\n",
    "steps = 4\n",
    "tests, losses = [], []\n",
    "\n",
    "for rate in learning_rates:\n",
    "    model = DeepSetAutoEncoder(weight_shapes, bias_shapes)\n",
    "    train_model(model, dataloader, num_epochs = depth, accumulation_steps = steps, learning_rate = rate)\n",
    "    \n",
    "    dumb = next(iter(dataloader))\n",
    "    dumb_recon = model(dumb)\n",
    "    \n",
    "    sampled_mlp = sample_first_mlp_from_batch(dumb_recon)\n",
    "    test = test_mlp(sampled_mlp, test_loader)\n",
    "    tests.append(test)\n",
    "    \n",
    "    loss = criterion(dumb, dumb_recon)\n",
    "    losses.append(loss)\n",
    "    \n",
    "    print(f\"Output MLP test performance: {test}\")\n",
    "    print(f\"Output MLP Loss: {loss}\")\n",
    "    print(f\"With LR: {rate}\")\n",
    "    "
   ]
  },
  {
   "cell_type": "code",
   "execution_count": 118,
   "id": "34632a4c-9dd7-4335-960a-4e1854cd39c0",
   "metadata": {},
   "outputs": [
    {
     "data": {
      "text/plain": [
       "(0.0, 0.0125)"
      ]
     },
     "execution_count": 118,
     "metadata": {},
     "output_type": "execute_result"
    },
    {
     "data": {
      "image/png": "[encoded data removed]",
      "text/plain": [
       "<Figure size 432x288 with 1 Axes>"
      ]
     },
     "metadata": {
      "needs_background": "light"
     },
     "output_type": "display_data"
    }
   ],
   "source": [
    "# for i in range(len(losses)):\n",
    "#     losses[i] = losses[i].detach().numpy()\n",
    "\n",
    "plt.scatter(learning_rates, losses)\n",
    "plt.xlim(0, 6e-3)\n",
    "plt.ylim(0, 0.0125)"
   ]
  },
  {
   "cell_type": "markdown",
   "id": "c0dd78ff-4fe1-41a2-942e-01c312d78b7f",
   "metadata": {},
   "source": [
    "# Compare in/out with tSNE"
   ]
  },
  {
   "cell_type": "code",
   "execution_count": null,
   "id": "183627a6-2807-4319-b143-3e019854ab77",
   "metadata": {},
   "outputs": [],
   "source": [
    "#         model = MLP()\n",
    "#         model = load_model_weights(model, model_path)\n",
    "#         org_models.append(model)\n",
    "\n"
   ]
  }
 ],
 "metadata": {
  "kernelspec": {
   "display_name": "Python 3",
   "language": "python",
   "name": "python3"
  },
  "language_info": {
   "codemirror_mode": {
    "name": "ipython",
    "version": 3
   },
   "file_extension": ".py",
   "mimetype": "text/x-python",
   "name": "python",
   "nbconvert_exporter": "python",
   "pygments_lexer": "ipython3",
   "version": "3.8.8"
  }
 },
 "nbformat": 4,
 "nbformat_minor": 5
}
