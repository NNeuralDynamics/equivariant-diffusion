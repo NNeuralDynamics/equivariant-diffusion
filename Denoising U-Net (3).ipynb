{
 "cells": [
  {
   "cell_type": "code",
   "execution_count": 20,
   "id": "ece9be80",
   "metadata": {},
   "outputs": [
    {
     "name": "stdout",
     "output_type": "stream",
     "text": [
      "cpu\n"
     ]
    }
   ],
   "source": [
    "import torch\n",
    "import torch.nn as nn\n",
    "import torch.nn.functional as F\n",
    "import torch.optim as optim\n",
    "from torch.utils.data import DataLoader, Dataset\n",
    "\n",
    "import numpy as np\n",
    "\n",
    "# Device configuration\n",
    "device = torch.device('cuda' if torch.cuda.is_available() else 'cpu')\n",
    "print(device)"
   ]
  },
  {
   "cell_type": "code",
   "execution_count": 22,
   "id": "e48265da",
   "metadata": {},
   "outputs": [],
   "source": [
    "class UNetBlock1D(nn.Module):\n",
    "    def __init__(self, in_channels, out_channels, kernel_size = 3, padding = 1):\n",
    "        super(UNetBlock1D, self).__init__()\n",
    "        \n",
    "        self.conv1 = nn.Conv1d(in_channels, out_channels, kernel_size=kernel_size, padding=padding)\n",
    "        self.bn1 = nn.BatchNorm1d(out_channels)\n",
    "                \n",
    "        self.conv2 = nn.Conv1d(out_channels, out_channels, kernel_size=kernel_size, padding=padding)\n",
    "        self.bn2 = nn.BatchNorm1d(out_channels)\n",
    "        \n",
    "    def forward(self, x):\n",
    "        \n",
    "        x = F.relu(self.bn1(self.conv1(x)))\n",
    "        x = F.relu(self.bn2(self.conv2(x)))\n",
    "        \n",
    "        return x"
   ]
  },
  {
   "cell_type": "code",
   "execution_count": 24,
   "id": "9aa1be00",
   "metadata": {},
   "outputs": [
    {
     "data": {
      "text/plain": [
       "torch.Size([1, 1, 32])"
      ]
     },
     "execution_count": 24,
     "metadata": {},
     "output_type": "execute_result"
    }
   ],
   "source": [
    "UN = UNetBlock1D(1, 1)\n",
    "input = torch.normal(0, 1, size = (1, 1, 32 ))\n",
    "UN(input).shape"
   ]
  },
  {
   "cell_type": "code",
   "execution_count": 25,
   "id": "5dd582e9",
   "metadata": {},
   "outputs": [],
   "source": [
    "class DenoisingUNet1D(nn.Module):\n",
    "    def __init__(self, in_channels, out_channels, hidden_layers, features=64, kernel_size=3, padding=1):\n",
    "        super(DenoisingUNet1D, self).__init__()\n",
    "        \n",
    "        self.hidden_layers = hidden_layers\n",
    "        self.features = features\n",
    "        self.encoder_layers = nn.ModuleList()\n",
    "        self.decoder_layers = nn.ModuleList()\n",
    "        \n",
    "        # Encoder        \n",
    "        self.encoder_layers.append( UNetBlock1D(in_channels, features) )\n",
    "        for hidden_layer in range(hidden_layers):\n",
    "            self.encoder_layers.append( UNetBlock1D(features*2**(hidden_layer), features * 2**(hidden_layer +1) ) )\n",
    "                    \n",
    "        # Bottleneck layer\n",
    "        self.flatten = nn.Flatten() # 1, features*2**(layers+1)\n",
    "        self.bottleneck = nn.Linear(features * 2**(hidden_layers) * features, features * 2**(hidden_layers ) * features )\n",
    "\n",
    "        # Decoder\n",
    "        for hidden_layer in range(hidden_layers):\n",
    "            in_dim = features * 2**(hidden_layers - hidden_layer   )\n",
    "            out_dim = features * 2**(hidden_layers - hidden_layer - 1)\n",
    "            self.decoder_layers.append( UNetBlock1D(in_dim + out_dim, out_dim) )\n",
    "        \n",
    "        # Final Layer\n",
    "        self.decoder_layers.append( UNetBlock1D(features, out_channels) )\n",
    "        \n",
    "\n",
    "            \n",
    "    def forward(self, x):\n",
    "        # Encoding path\n",
    "        hidden_layers = self.hidden_layers\n",
    "        features = self.features\n",
    "        \n",
    "        skips = []\n",
    "        for layer in self.encoder_layers:\n",
    "            x = layer(x)\n",
    "            skips.append(x)\n",
    "\n",
    "        \n",
    "        # Bottleneck\n",
    "        x = self.flatten(x)\n",
    "        x = self.bottleneck( x )\n",
    "        x = F.relu(x)\n",
    "        x = torch.reshape(x, (1, features*2**(hidden_layers), features)) \n",
    "\n",
    "        # Decoding path\n",
    "        i = 1\n",
    "        for layer in self.decoder_layers:\n",
    "            \n",
    "            x = layer( torch.cat( (x, skips[hidden_layers - i]), 1) )\n",
    "            \n",
    "            if i == hidden_layers :\n",
    "                x = self.decoder_layers[-1](x)\n",
    "                break\n",
    "                \n",
    "            i = i + 1\n",
    "                    \n",
    "        return x\n"
   ]
  },
  {
   "cell_type": "code",
   "execution_count": 28,
   "id": "d1453cd2",
   "metadata": {},
   "outputs": [
    {
     "data": {
      "text/plain": [
       "DenoisingUNet1D(\n",
       "  (encoder_layers): ModuleList(\n",
       "    (0): UNetBlock1D(\n",
       "      (conv1): Conv1d(1, 16, kernel_size=(3,), stride=(1,), padding=(1,))\n",
       "      (bn1): BatchNorm1d(16, eps=1e-05, momentum=0.1, affine=True, track_running_stats=True)\n",
       "      (conv2): Conv1d(16, 16, kernel_size=(3,), stride=(1,), padding=(1,))\n",
       "      (bn2): BatchNorm1d(16, eps=1e-05, momentum=0.1, affine=True, track_running_stats=True)\n",
       "    )\n",
       "    (1): UNetBlock1D(\n",
       "      (conv1): Conv1d(16, 32, kernel_size=(3,), stride=(1,), padding=(1,))\n",
       "      (bn1): BatchNorm1d(32, eps=1e-05, momentum=0.1, affine=True, track_running_stats=True)\n",
       "      (conv2): Conv1d(32, 32, kernel_size=(3,), stride=(1,), padding=(1,))\n",
       "      (bn2): BatchNorm1d(32, eps=1e-05, momentum=0.1, affine=True, track_running_stats=True)\n",
       "    )\n",
       "    (2): UNetBlock1D(\n",
       "      (conv1): Conv1d(32, 64, kernel_size=(3,), stride=(1,), padding=(1,))\n",
       "      (bn1): BatchNorm1d(64, eps=1e-05, momentum=0.1, affine=True, track_running_stats=True)\n",
       "      (conv2): Conv1d(64, 64, kernel_size=(3,), stride=(1,), padding=(1,))\n",
       "      (bn2): BatchNorm1d(64, eps=1e-05, momentum=0.1, affine=True, track_running_stats=True)\n",
       "    )\n",
       "    (3): UNetBlock1D(\n",
       "      (conv1): Conv1d(64, 128, kernel_size=(3,), stride=(1,), padding=(1,))\n",
       "      (bn1): BatchNorm1d(128, eps=1e-05, momentum=0.1, affine=True, track_running_stats=True)\n",
       "      (conv2): Conv1d(128, 128, kernel_size=(3,), stride=(1,), padding=(1,))\n",
       "      (bn2): BatchNorm1d(128, eps=1e-05, momentum=0.1, affine=True, track_running_stats=True)\n",
       "    )\n",
       "    (4): UNetBlock1D(\n",
       "      (conv1): Conv1d(128, 256, kernel_size=(3,), stride=(1,), padding=(1,))\n",
       "      (bn1): BatchNorm1d(256, eps=1e-05, momentum=0.1, affine=True, track_running_stats=True)\n",
       "      (conv2): Conv1d(256, 256, kernel_size=(3,), stride=(1,), padding=(1,))\n",
       "      (bn2): BatchNorm1d(256, eps=1e-05, momentum=0.1, affine=True, track_running_stats=True)\n",
       "    )\n",
       "  )\n",
       "  (decoder_layers): ModuleList(\n",
       "    (0): UNetBlock1D(\n",
       "      (conv1): Conv1d(384, 128, kernel_size=(3,), stride=(1,), padding=(1,))\n",
       "      (bn1): BatchNorm1d(128, eps=1e-05, momentum=0.1, affine=True, track_running_stats=True)\n",
       "      (conv2): Conv1d(128, 128, kernel_size=(3,), stride=(1,), padding=(1,))\n",
       "      (bn2): BatchNorm1d(128, eps=1e-05, momentum=0.1, affine=True, track_running_stats=True)\n",
       "    )\n",
       "    (1): UNetBlock1D(\n",
       "      (conv1): Conv1d(192, 64, kernel_size=(3,), stride=(1,), padding=(1,))\n",
       "      (bn1): BatchNorm1d(64, eps=1e-05, momentum=0.1, affine=True, track_running_stats=True)\n",
       "      (conv2): Conv1d(64, 64, kernel_size=(3,), stride=(1,), padding=(1,))\n",
       "      (bn2): BatchNorm1d(64, eps=1e-05, momentum=0.1, affine=True, track_running_stats=True)\n",
       "    )\n",
       "    (2): UNetBlock1D(\n",
       "      (conv1): Conv1d(96, 32, kernel_size=(3,), stride=(1,), padding=(1,))\n",
       "      (bn1): BatchNorm1d(32, eps=1e-05, momentum=0.1, affine=True, track_running_stats=True)\n",
       "      (conv2): Conv1d(32, 32, kernel_size=(3,), stride=(1,), padding=(1,))\n",
       "      (bn2): BatchNorm1d(32, eps=1e-05, momentum=0.1, affine=True, track_running_stats=True)\n",
       "    )\n",
       "    (3): UNetBlock1D(\n",
       "      (conv1): Conv1d(48, 16, kernel_size=(3,), stride=(1,), padding=(1,))\n",
       "      (bn1): BatchNorm1d(16, eps=1e-05, momentum=0.1, affine=True, track_running_stats=True)\n",
       "      (conv2): Conv1d(16, 16, kernel_size=(3,), stride=(1,), padding=(1,))\n",
       "      (bn2): BatchNorm1d(16, eps=1e-05, momentum=0.1, affine=True, track_running_stats=True)\n",
       "    )\n",
       "    (4): UNetBlock1D(\n",
       "      (conv1): Conv1d(16, 1, kernel_size=(3,), stride=(1,), padding=(1,))\n",
       "      (bn1): BatchNorm1d(1, eps=1e-05, momentum=0.1, affine=True, track_running_stats=True)\n",
       "      (conv2): Conv1d(1, 1, kernel_size=(3,), stride=(1,), padding=(1,))\n",
       "      (bn2): BatchNorm1d(1, eps=1e-05, momentum=0.1, affine=True, track_running_stats=True)\n",
       "    )\n",
       "  )\n",
       "  (flatten): Flatten(start_dim=1, end_dim=-1)\n",
       "  (bottleneck): Linear(in_features=4096, out_features=4096, bias=True)\n",
       ")"
      ]
     },
     "execution_count": 28,
     "metadata": {},
     "output_type": "execute_result"
    }
   ],
   "source": [
    "DUN = DenoisingUNet1D(1, 1, 4, 16)\n",
    "DUN"
   ]
  },
  {
   "cell_type": "code",
   "execution_count": 29,
   "id": "8ad2994e",
   "metadata": {},
   "outputs": [
    {
     "data": {
      "text/plain": [
       "torch.Size([1, 1, 16])"
      ]
     },
     "execution_count": 29,
     "metadata": {},
     "output_type": "execute_result"
    }
   ],
   "source": [
    "input = torch.normal(0, 1, size = (1, 1, 16 ))\n",
    "DUN(input).shape"
   ]
  },
  {
   "cell_type": "code",
   "execution_count": null,
   "id": "e9b4b789",
   "metadata": {},
   "outputs": [],
   "source": []
  }
 ],
 "metadata": {
  "kernelspec": {
   "display_name": "Python 3 (ipykernel)",
   "language": "python",
   "name": "python3"
  },
  "language_info": {
   "codemirror_mode": {
    "name": "ipython",
    "version": 3
   },
   "file_extension": ".py",
   "mimetype": "text/x-python",
   "name": "python",
   "nbconvert_exporter": "python",
   "pygments_lexer": "ipython3",
   "version": "3.9.7"
  }
 },
 "nbformat": 4,
 "nbformat_minor": 5
}
