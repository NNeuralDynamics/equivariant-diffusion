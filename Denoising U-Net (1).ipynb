{
 "cells": [
  {
   "cell_type": "code",
   "execution_count": 33,
   "id": "662a91c3",
   "metadata": {},
   "outputs": [
    {
     "name": "stdout",
     "output_type": "stream",
     "text": [
      "cpu\n"
     ]
    }
   ],
   "source": [
    "import torch\n",
    "import torch.nn as nn\n",
    "import torch.nn.functional as F\n",
    "import torch.optim as optim\n",
    "from torch.utils.data import DataLoader, Dataset\n",
    "\n",
    "import numpy as np\n",
    "\n",
    "# Device configuration\n",
    "device = torch.device('cuda' if torch.cuda.is_available() else 'cpu')\n",
    "print(device)"
   ]
  },
  {
   "cell_type": "code",
   "execution_count": 30,
   "id": "d25f987e",
   "metadata": {},
   "outputs": [],
   "source": [
    "class UNetBlock(nn.Module):\n",
    "    def __init__(self, in_channels, out_channels, kernel_size=3, padding=1):\n",
    "        super(UNetBlock, self).__init__()\n",
    "        self.conv1 = nn.Conv2d(in_channels, out_channels, kernel_size=kernel_size, padding=padding)\n",
    "        self.bn1 = nn.BatchNorm2d(out_channels)\n",
    "        self.conv2 = nn.Conv2d(out_channels, out_channels, kernel_size=kernel_size, padding=padding)\n",
    "        self.bn2 = nn.BatchNorm2d(out_channels)\n",
    "        \n",
    "    def forward(self, x):\n",
    "        x = F.relu(self.bn1(self.conv1(x)))\n",
    "        x = F.relu(self.bn2(self.conv2(x)))\n",
    "        return x\n",
    "\n",
    "class DenoisingUNet(nn.Module):\n",
    "    def __init__(self, in_channels, out_channels, init_features=64, kernel_size=3, padding=1):\n",
    "        super(DenoisingUNet, self).__init__()\n",
    "        \n",
    "        features = init_features\n",
    "        self.enc1 = UNetBlock(in_channels, features, kernel_size, padding)\n",
    "        self.enc2 = UNetBlock(features, features * 2, kernel_size, padding)\n",
    "        self.enc3 = UNetBlock(features * 2, features * 4, kernel_size, padding)\n",
    "        \n",
    "        self.bottleneck = UNetBlock(features * 4, features * 8, kernel_size, padding)\n",
    "        \n",
    "        self.dec3 = UNetBlock(features * 8 + features * 4, features * 4, kernel_size, padding)\n",
    "        self.dec2 = UNetBlock(features * 4 + features * 2, features * 2, kernel_size, padding)\n",
    "        self.dec1 = UNetBlock(features * 2 + features, features, kernel_size, padding)\n",
    "        \n",
    "        self.final_conv = nn.Conv2d(features, out_channels, kernel_size=1)\n",
    "        \n",
    "    def forward(self, x):\n",
    "        # Encoder\n",
    "        enc1_out = self.enc1(x)\n",
    "        enc2_out = self.enc2(F.max_pool2d(enc1_out, 2))\n",
    "        enc3_out = self.enc3(F.max_pool2d(enc2_out, 2))\n",
    "        \n",
    "        # Bottleneck\n",
    "        bottleneck_out = self.bottleneck(F.max_pool2d(enc3_out, 2))\n",
    "        \n",
    "        # Decoder\n",
    "        dec3_out = self.dec3(torch.cat([F.interpolate(bottleneck_out, scale_factor=2, mode='bilinear', align_corners=True), enc3_out], dim=1))\n",
    "        dec2_out = self.dec2(torch.cat([F.interpolate(dec3_out, scale_factor=2, mode='bilinear', align_corners=True), enc2_out], dim=1))\n",
    "        dec1_out = self.dec1(torch.cat([F.interpolate(dec2_out, scale_factor=2, mode='bilinear', align_corners=True), enc1_out], dim=1))\n",
    "        \n",
    "        # Output layer\n",
    "        output = self.final_conv(dec1_out)\n",
    "        return output\n"
   ]
  },
  {
   "cell_type": "code",
   "execution_count": 31,
   "id": "88f01f8e",
   "metadata": {},
   "outputs": [
    {
     "name": "stdout",
     "output_type": "stream",
     "text": [
      "torch.Size([1, 1, 128, 128])\n"
     ]
    }
   ],
   "source": [
    "# Example usage with different internal dimensions, kernel size, and padding\n",
    "model = DenoisingUNet(in_channels=1, out_channels=1, init_features=32, kernel_size=3, padding=1)\n",
    "\n",
    "input = torch.randn(1, 1, 128, 128)  # Example input tensor\n",
    "output = model(input)\n",
    "print(output.shape)  # Should output torch.Size([1, 1, 128, 128])\n"
   ]
  },
  {
   "cell_type": "code",
   "execution_count": 34,
   "id": "5bc64e3d",
   "metadata": {},
   "outputs": [],
   "source": [
    "# A dataset for the latent space and the noised latent representations.\n",
    "# Haven't created dataset yet, code below this point is a draft\n",
    "\n",
    "class DenoiseDataset(Dataset):\n",
    "    def __init__(self, loud_latents, latents):\n",
    "        self.loud_latents = loud_latents\n",
    "        self.latents = latents\n",
    "\n",
    "    def __len__(self):\n",
    "        return len(self.loud_latents)\n",
    "\n",
    "    def __getitem__(self, idx):\n",
    "        noisy = self.loud_latents[idx]\n",
    "        clean = self.latents[idx]\n",
    "        return noisy, clean\n",
    "\n",
    "# 'loud_latents' and 'latents' are tensors of noisy and clean latent spaces\n",
    "dataset = DenoiseDataset(loud_latents, latents)\n",
    "dataloader = DataLoader(dataset, batch_size=16, shuffle=True)"
   ]
  },
  {
   "cell_type": "code",
   "execution_count": 36,
   "id": "3ce9d366",
   "metadata": {},
   "outputs": [],
   "source": [
    "def train_Unet(model, epochs):\n",
    "    \n",
    "    # define optimizer and loss metric\n",
    "    criterion = nn.MSELoss()\n",
    "    optimizer = optim.Adam(model.parameters(), lr=1e-3, weight_decay=1e-5)\n",
    "    \n",
    "    for epoch in range(epochs):\n",
    "    \n",
    "        model.train()\n",
    "        running_loss = 0.0\n",
    "\n",
    "        for loud_latents, latents in dataloader:\n",
    "            \n",
    "            # Forward pass\n",
    "            outputs = model(loud_latents)\n",
    "            loss = criterion(outputs, latents)\n",
    "\n",
    "            # Optimizer Step\n",
    "            optimizer.zero_grad()\n",
    "            loss.backward()\n",
    "            optimizer.step()\n",
    "            running_loss += loss.item() * loud_latents.size(0)\n",
    "\n",
    "    epoch_loss = running_loss / len(dataloader.dataset)\n",
    "    print(f\"Epoch {epoch + 1}/{epochs}, Loss: {epoch_loss:.4f}\")\n",
    "\n",
    "    # Save the model every few epochs\n",
    "    if epoch%10 == 0: \n",
    "        torch.save(model.state_dict(), 'denoising_unet.pth')\n",
    "    "
   ]
  },
  {
   "cell_type": "code",
   "execution_count": null,
   "id": "54cb0f89",
   "metadata": {},
   "outputs": [],
   "source": []
  }
 ],
 "metadata": {
  "kernelspec": {
   "display_name": "Python 3 (ipykernel)",
   "language": "python",
   "name": "python3"
  },
  "language_info": {
   "codemirror_mode": {
    "name": "ipython",
    "version": 3
   },
   "file_extension": ".py",
   "mimetype": "text/x-python",
   "name": "python",
   "nbconvert_exporter": "python",
   "pygments_lexer": "ipython3",
   "version": "3.9.7"
  }
 },
 "nbformat": 4,
 "nbformat_minor": 5
}
