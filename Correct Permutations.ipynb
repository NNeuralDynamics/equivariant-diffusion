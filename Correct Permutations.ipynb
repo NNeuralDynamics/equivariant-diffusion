{
 "cells": [
  {
   "cell_type": "code",
   "execution_count": 1,
   "id": "3e6ae30c-e017-4738-87d3-02d74771a3f6",
   "metadata": {},
   "outputs": [
    {
     "name": "stdout",
     "output_type": "stream",
     "text": [
      "cpu\n"
     ]
    }
   ],
   "source": [
    "import os\n",
    "import torch\n",
    "from torch import nn\n",
    "from torchvision import datasets, transforms\n",
    "import numpy as np\n",
    "import matplotlib.pyplot as plt\n",
    "from sklearn.manifold import TSNE\n",
    "from torch.optim import Adam\n",
    "from collections import defaultdict\n",
    "import numpy.ma as ma\n",
    "from scipy.optimize import linear_sum_assignment\n",
    "import matplotlib.pyplot as plt\n",
    "from sklearn.manifold import TSNE\n",
    "\n",
    "from nn.models import DWSModel\n",
    "from typing import Tuple, NamedTuple\n",
    "from nn.layers import BN, DWSLayer,InvariantLayer, Dropout, ReLU\n",
    "from nn.layers.base import BaseLayer,GeneralSetLayer\n",
    "\n",
    "device = torch.device('cuda' if torch.cuda.is_available() else 'cpu')\n",
    "print(device)\n",
    "torch.backends.cudnn.enabled = False"
   ]
  },
  {
   "cell_type": "code",
   "execution_count": 2,
   "id": "1790b3d2-d288-4b5e-9339-1707cf7c267d",
   "metadata": {},
   "outputs": [
    {
     "name": "stdout",
     "output_type": "stream",
     "text": [
      "Outputs are identical: True\n"
     ]
    }
   ],
   "source": [
    "class SimpleMLP(nn.Module):\n",
    "    def __init__(self, input_dim, hidden_dim, output_dim):\n",
    "        super(SimpleMLP, self).__init__()\n",
    "        self.hidden1 = nn.Linear(input_dim, hidden_dim)\n",
    "        self.hidden2 = nn.Linear(hidden_dim, hidden_dim)\n",
    "        self.output = nn.Linear(hidden_dim, output_dim)\n",
    "\n",
    "    def forward(self, x):\n",
    "        x = torch.relu(self.hidden1(x))\n",
    "        x = torch.relu(self.hidden2(x))\n",
    "        return self.output(x)\n",
    "\n",
    "def permute_layer_weights(layer, perm):\n",
    "    \"\"\"Permutes weights and biases of a layer based on the given permutation matrix.\"\"\"\n",
    "    weight = layer.weight.data.clone()\n",
    "    bias = layer.bias.data.clone()\n",
    "\n",
    "    # Permute rows of weights (output dimension)\n",
    "    layer.weight.data = weight[perm, :]\n",
    "\n",
    "    # Permute bias (output dimension)\n",
    "    layer.bias.data = bias[perm]\n",
    "    return layer\n",
    "\n",
    "def permute_model(model, permutations):\n",
    "    \"\"\"Applies a list of permutations to a model's layers.\"\"\"\n",
    "    permute_layer_weights(model.hidden1, permutations[0])\n",
    "    permute_layer_weights(model.hidden2, permutations[1])\n",
    "\n",
    "    # Adjust input weights of the second hidden layer\n",
    "    model.hidden2.weight.data = model.hidden2.weight.data[:, permutations[0]]\n",
    "    # Adjust input weights of the output layer\n",
    "    model.output.weight.data = model.output.weight.data[:, permutations[1]]\n",
    "    return model\n",
    "\n",
    "def generate_permutation_matrix(hidden_dim):\n",
    "    \"\"\"Generates a random permutation matrix.\"\"\"\n",
    "    perm = np.random.permutation(hidden_dim)\n",
    "    return torch.tensor(perm, dtype=torch.long)\n",
    "\n",
    "# Example Usage\n",
    "input_dim = 10\n",
    "hidden_dim = 16\n",
    "output_dim = 5\n",
    "\n",
    "# Initialize two identical models\n",
    "model_a = SimpleMLP(input_dim, hidden_dim, output_dim)\n",
    "model_b = SimpleMLP(input_dim, hidden_dim, output_dim)\n",
    "model_b.load_state_dict(model_a.state_dict())  # Ensure identical initial weights\n",
    "\n",
    "# Generate random permutations for each hidden layer\n",
    "perm1 = generate_permutation_matrix(hidden_dim)\n",
    "perm2 = generate_permutation_matrix(hidden_dim)\n",
    "\n",
    "# Apply permutations to model B\n",
    "model_c = permute_model(model_b, [perm1, perm2])\n",
    "\n",
    "# Verify functionality is preserved\n",
    "x = torch.rand(1, input_dim)\n",
    "output_a = model_a(x)\n",
    "output_b = model_b(x)\n",
    "# output_c = model_c(x)\n",
    "\n",
    "print(\"Outputs are identical:\", torch.allclose(output_a, output_b))"
   ]
  },
  {
   "cell_type": "code",
   "execution_count": null,
   "id": "5f014adf-b457-4dfe-9026-6aaf2f2992f5",
   "metadata": {},
   "outputs": [],
   "source": []
  }
 ],
 "metadata": {
  "kernelspec": {
   "display_name": "Python 3",
   "language": "python",
   "name": "python3"
  },
  "language_info": {
   "codemirror_mode": {
    "name": "ipython",
    "version": 3
   },
   "file_extension": ".py",
   "mimetype": "text/x-python",
   "name": "python",
   "nbconvert_exporter": "python",
   "pygments_lexer": "ipython3",
   "version": "3.8.8"
  }
 },
 "nbformat": 4,
 "nbformat_minor": 5
}
