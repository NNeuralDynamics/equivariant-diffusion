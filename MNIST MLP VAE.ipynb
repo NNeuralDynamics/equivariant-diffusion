{
 "cells": [
  {
   "cell_type": "code",
   "execution_count": 116,
   "id": "b41e0ae0-bd67-4172-a4b1-18d55bd600f4",
   "metadata": {},
   "outputs": [],
   "source": [
    "import sys\n",
    "sys.path.append('./weightflow')  # e.g., './repo_name'\n",
    "\n",
    "import torch\n",
    "import numpy as np\n",
    "from collections import defaultdict\n",
    "from typing import NamedTuple\n",
    "from scipy.optimize import linear_sum_assignment\n",
    "\n",
    "from nn.relational_transformer import RelationalTransformer # not used by Saumya?\n",
    "from nn.graph_constructor import GraphConstructor # not used by Saumya?\n",
    "\n",
    "from flow.flow_matching import CFM\n",
    "from tqdm import tqdm\n",
    "import copy\n",
    "import logging\n",
    "from utils.data import sample_gaussian_wsos\n",
    "\n",
    "import torch\n",
    "import torch.nn as nn\n",
    "import numpy as np\n",
    "from torch.utils.data import DataLoader, TensorDataset\n",
    "from tqdm import tqdm\n",
    "import matplotlib.pyplot as plt\n",
    "import torch.nn.functional as F\n",
    "import copy\n",
    "from collections import defaultdict\n",
    "import os\n",
    "import traceback\n",
    "\n",
    "device = torch.device(\"cuda\" if torch.cuda.is_available() else \"cpu\")\n",
    "logging.basicConfig(stream=sys.stdout, format='%(asctime)s %(levelname)s: %(message)s', level=logging.INFO, datefmt='%I:%M:%S')\n",
    "\n",
    "\n",
    "# PermutationSpec class similar to the JAX version but using PyTorch\n",
    "class PermutationSpec(NamedTuple):\n",
    "    perm_to_axes: dict\n",
    "    axes_to_perm: dict\n",
    "\n",
    "def permutation_spec_from_axes_to_perm(axes_to_perm: dict) -> PermutationSpec:\n",
    "    perm_to_axes = defaultdict(list)\n",
    "    for wk, axis_perms in axes_to_perm.items():\n",
    "        for axis, perm in enumerate(axis_perms):\n",
    "            if perm is not None:\n",
    "                perm_to_axes[perm].append((wk, axis))\n",
    "    return PermutationSpec(perm_to_axes=dict(perm_to_axes), axes_to_perm=axes_to_perm)\n",
    "\n",
    "def mlp_permutation_spec_mlp() -> PermutationSpec:\n",
    "    \"\"\"Define permutation spec for MLP architecture\"\"\"\n",
    "    return permutation_spec_from_axes_to_perm({\n",
    "        \"fc1.weight\": (None, \"P_0\"),       # Input (None) to fc1 output (P_0)\n",
    "        \"fc1.bias\": (\"P_0\",),              # Bias for fc1 output (P_0)\n",
    "        \"fc2.weight\": (\"P_0\", \"P_1\"),      # fc1 output (P_0) to fc2 output (P_1)\n",
    "        \"fc2.bias\": (\"P_1\",),              # Bias for fc2 output (P_1)\n",
    "        \"fc3.weight\": (\"P_1\", None),       # fc2 output (P_1) to fc3 output (None)\n",
    "        \"fc3.bias\": (None,),               # Bias for fc3 output (None)\n",
    "    })\n",
    "\n",
    "def get_permuted_param(ps: PermutationSpec, perm, k: str, params, except_axis=None):\n",
    "    \"\"\"Get parameter k from params, with permutations applied.\"\"\"\n",
    "    w = params[k]\n",
    "    for axis, p in enumerate(ps.axes_to_perm[k]):\n",
    "        # Skip the axis we're trying to permute\n",
    "        if axis == except_axis:\n",
    "            continue\n",
    "\n",
    "        # None indicates no permutation for that axis\n",
    "        if p is not None:\n",
    "            w = torch.index_select(w, axis, torch.tensor(perm[p], device=w.device))\n",
    "\n",
    "    return w\n",
    "\n",
    "def apply_permutation(ps: PermutationSpec, perm, params):\n",
    "    \"\"\"Apply permutation to params\"\"\"\n",
    "    return {k: get_permuted_param(ps, perm, k, params) for k in params.keys()}\n",
    "\n",
    "def weight_matching(ps: PermutationSpec, params_a, params_b, max_iter=100, init_perm=None, silent=True, device=None):\n",
    "    \"\"\"Find permutation of params_b to make them match params_a.\"\"\"\n",
    "    if device is None:\n",
    "        device = torch.device(\"cuda\" if torch.cuda.is_available() else \"cpu\")\n",
    "\n",
    "    # Move all tensors to the correct device\n",
    "    params_a = {k: v.to(device) for k, v in params_a.items()}\n",
    "    params_b = {k: v.to(device) for k, v in params_b.items()}\n",
    "\n",
    "    # Get permutation sizes from the first parameter with each permutation\n",
    "    perm_sizes = {p: params_a[axes[0][0]].shape[axes[0][1]] \n",
    "                  for p, axes in ps.perm_to_axes.items()}\n",
    "    \n",
    "    # Initialize permutations to identity if none provided\n",
    "    if init_perm is None:\n",
    "        perm = {p: torch.arange(n, device=device) for p, n in perm_sizes.items()}\n",
    "    else:\n",
    "        perm = {p: v.to(device) for p, v in init_perm.items()}\n",
    "        \n",
    "    perm_names = list(perm.keys())\n",
    "    \n",
    "    # Use a random number generator with a fixed seed for reproducibility\n",
    "    rng = np.random.RandomState(42)\n",
    "\n",
    "    for iteration in range(max_iter):\n",
    "        progress = False\n",
    "        \n",
    "        # Shuffle the order of permutations to update\n",
    "        for p_ix in rng.permutation(len(perm_names)):\n",
    "            p = perm_names[p_ix]\n",
    "            n = perm_sizes[p]\n",
    "            \n",
    "            # Initialize cost matrix\n",
    "            A = torch.zeros((n, n), device=device)\n",
    "            \n",
    "            # Fill in cost matrix based on all parameters affected by this permutation\n",
    "            for wk, axis in ps.perm_to_axes[p]:\n",
    "                w_a = params_a[wk]\n",
    "                w_b = get_permuted_param(ps, perm, wk, params_b, except_axis=axis)\n",
    "\n",
    "                w_a = w_a.moveaxis(axis, 0).reshape((n, -1))\n",
    "                w_b = w_b.moveaxis(axis, 0).reshape((n, -1))\n",
    "\n",
    "                A += w_a @ w_b.T\n",
    "\n",
    "            # Solve the linear assignment problem\n",
    "            ri, ci = linear_sum_assignment(A.detach().cpu().numpy(), maximize=True)\n",
    "            assert (ri == np.arange(len(ri))).all()\n",
    "\n",
    "            # Calculate improvement\n",
    "            eye_old = torch.eye(n, device=device)[perm[p]]\n",
    "            eye_new = torch.eye(n, device=device)[ci]\n",
    "\n",
    "            oldL = torch.tensordot(A, eye_old, dims=([0, 1], [0, 1]))\n",
    "            newL = torch.tensordot(A, eye_new, dims=([0, 1], [0, 1]))\n",
    "\n",
    "            if not silent and newL > oldL + 1e-12:\n",
    "                logging.info(f\"{iteration}/{p}: {newL.item() - oldL.item()}\")\n",
    "\n",
    "            progress = progress or newL > oldL + 1e-12\n",
    "\n",
    "            perm[p] = torch.tensor(ci, device=device)\n",
    "\n",
    "        if not progress:\n",
    "            break\n",
    "\n",
    "    return perm\n",
    "\n",
    "\n",
    "def update_model_weights(model, aligned_params):\n",
    "    \"\"\"Update model weights with aligned parameters\"\"\"\n",
    "    # Convert numpy arrays to torch tensors if needed\n",
    "    model.fc1.weight.data = aligned_params[\"fc1.weight\"].T\n",
    "    model.fc1.bias.data = aligned_params[\"fc1.bias\"]\n",
    "    model.fc2.weight.data = aligned_params[\"fc2.weight\"].T\n",
    "    model.fc2.bias.data = aligned_params[\"fc2.bias\"]\n",
    "    model.fc3.weight.data = aligned_params[\"fc3.weight\"].T\n",
    "    model.fc3.bias.data = aligned_params[\"fc3.bias\"]\n",
    "    \n",
    "def load_model_weights(model, model_path):\n",
    "    \"\"\"Load model weights from file\"\"\"\n",
    "    weights, biases = torch.load(model_path, map_location=device)\n",
    "    model.fc1.weight.data = weights[0]\n",
    "    model.fc1.bias.data = biases[0]\n",
    "    model.fc2.weight.data = weights[1]\n",
    "    model.fc2.bias.data = biases[1]\n",
    "    model.fc3.weight.data = weights[2]\n",
    "    model.fc3.bias.data = biases[2]\n",
    "    return model.to(device)\n",
    "\n",
    "def get_permuted_models_data(ref_point=0, model_dir=\"models\", num_models=200):\n",
    "    \"\"\"Apply weight matching to align models with a reference model\"\"\"\n",
    "    # Create reference model\n",
    "    ref_model = MLP()  # Assumes MLP class is defined\n",
    "    ref_model_path = f\"{model_dir}/MNIST_mixed_mlp_weights_{ref_point}.pt\"\n",
    "    ref_model = load_model_weights(ref_model, ref_model_path).to(device)\n",
    "    \n",
    "    ps = mlp_permutation_spec_mlp()\n",
    "    \n",
    "    # Convert reference model weights to dictionary format\n",
    "    params_a = {\n",
    "        \"fc1.weight\": ref_model.fc1.weight.T.to(device),\n",
    "        \"fc1.bias\": ref_model.fc1.bias.to(device),\n",
    "        \"fc2.weight\": ref_model.fc2.weight.T.to(device),\n",
    "        \"fc2.bias\": ref_model.fc2.bias.to(device),\n",
    "        \"fc3.weight\": ref_model.fc3.weight.T.to(device),\n",
    "        \"fc3.bias\": ref_model.fc3.bias.to(device),\n",
    "    }\n",
    "    \n",
    "    org_models = []\n",
    "    permuted_models = []\n",
    "\n",
    "    for i in range(0, num_models):\n",
    "        if i == ref_point:\n",
    "            continue\n",
    "            \n",
    "        model_path = f\"{model_dir}/MNIST_mixed_mlp_weights_{i}.pt\"\n",
    "\n",
    "        model = MLP()  # Assumes MLP class is defined\n",
    "        model = load_model_weights(model, model_path).to(device)\n",
    "        org_models.append(model)\n",
    "        \n",
    "        # Convert model weights to dictionary format\n",
    "        params_b = {\n",
    "                \"fc1.weight\": model.fc1.weight.T.to(device),\n",
    "                \"fc1.bias\": model.fc1.bias.to(device),\n",
    "                \"fc2.weight\": model.fc2.weight.T.to(device),\n",
    "                \"fc2.bias\": model.fc2.bias.to(device),\n",
    "                \"fc3.weight\": model.fc3.weight.T.to(device),\n",
    "                \"fc3.bias\": model.fc3.bias.to(device),\n",
    "        }\n",
    "\n",
    "        # Find permutation to align with reference model\n",
    "        perm = weight_matching(ps, params_a, params_b)\n",
    "        \n",
    "        # Apply permutation to model_b\n",
    "        aligned_params_b = apply_permutation(ps, perm, params_b)\n",
    "        \n",
    "        # Create a new model with permuted weights\n",
    "        reconstructed_model = copy.deepcopy(model)\n",
    "        update_model_weights(reconstructed_model, aligned_params_b)\n",
    "        \n",
    "        permuted_models.append(reconstructed_model.to(device))\n",
    "\n",
    "            \n",
    "    return ref_model, org_models, permuted_models\n",
    "\n",
    "\n",
    "# Define MNIST classifier MLP class for dataset\n",
    "class MLP(nn.Module):\n",
    "    \"\"\"\n",
    "    A fully connected 3 layer neural network for classification tasks where hidden layers have 32 neurons (default) and ReLU activations\n",
    "    input: torch.tensor( [batch_size, 196] )\n",
    "    output: torch.tensor( [batch_size, 10] )\n",
    "    For classifying inputs of 196 into 10 classes.\n",
    "    \"\"\"\n",
    "    def __init__(self, hidden_dim = 32, init_type='xavier', seed=None, type = 'MNIST'):\n",
    "        super(MLP, self).__init__()\n",
    "        \n",
    "        self.fc1 = nn.Linear(196, hidden_dim)\n",
    "        self.fc2 = nn.Linear(hidden_dim, hidden_dim)\n",
    "        self.fc3 = nn.Linear(hidden_dim, 10)\n",
    "        \n",
    "        if seed is not None:\n",
    "            torch.manual_seed(seed)  # Set a unique seed for reproducibility\n",
    "\n",
    "        self.init_weights(init_type)\n",
    "        self.type = type\n",
    "\n",
    "    def init_weights(self, init_type):\n",
    "        if init_type == 'xavier':\n",
    "            nn.init.xavier_uniform_(self.fc1.weight)\n",
    "            nn.init.xavier_uniform_(self.fc2.weight)\n",
    "            nn.init.xavier_uniform_(self.fc3.weight)\n",
    "        elif init_type == 'he':\n",
    "            nn.init.kaiming_uniform_(self.fc1.weight, nonlinearity='relu')\n",
    "            nn.init.kaiming_uniform_(self.fc2.weight, nonlinearity='relu')\n",
    "            nn.init.kaiming_uniform_(self.fc3.weight, nonlinearity='relu')\n",
    "        else:\n",
    "            nn.init.normal_(self.fc1.weight)\n",
    "            nn.init.normal_(self.fc2.weight)\n",
    "            nn.init.normal_(self.fc3.weight)\n",
    "        \n",
    "        nn.init.zeros_(self.fc1.bias)\n",
    "        nn.init.zeros_(self.fc2.bias)\n",
    "        nn.init.zeros_(self.fc3.bias)\n",
    "\n",
    "    def forward(self, x):\n",
    "        x = x.view(-1, 196)\n",
    "        x = torch.relu(self.fc1(x))\n",
    "        x = torch.relu(self.fc2(x))\n",
    "        x = self.fc3(x)\n",
    "        return x\n",
    "\n",
    "# WeightSpaceObject class for handling MLP weights\n",
    "class WeightSpaceObject:\n",
    "    def __init__(self, weights, biases):\n",
    "        self.weights = weights if isinstance(weights, tuple) else tuple(weights)\n",
    "        self.biases = biases if isinstance(biases, tuple) else tuple(biases)\n",
    "        \n",
    "    def flatten(self, device=None):\n",
    "        \"\"\"Flatten weights and biases into a single vector\"\"\"\n",
    "        flat = torch.cat([w.flatten() for w in self.weights] + \n",
    "                          [b.flatten() for b in self.biases])\n",
    "        if device:\n",
    "            flat = flat.to(device)\n",
    "        return flat\n",
    "    \n",
    "    @classmethod\n",
    "    def from_flat(cls, flat, layers, device):\n",
    "        \"\"\"Create WeightSpaceObject from flattened vector\"\"\"\n",
    "        sizes = []\n",
    "        # Calculate sizes for weight matrices\n",
    "        for i in range(len(layers) - 1):\n",
    "            sizes.append(layers[i] * layers[i+1])  # Weight matrix\n",
    "        # Calculate sizes for bias vectors\n",
    "        for i in range(1, len(layers)):\n",
    "            sizes.append(layers[i])  # Bias vector\n",
    "            \n",
    "        # Split flat tensor into parts\n",
    "        parts = []\n",
    "        start = 0\n",
    "        for size in sizes:\n",
    "            parts.append(flat[start:start+size])\n",
    "            start += size\n",
    "            \n",
    "        # Reshape into weight matrices and bias vectors\n",
    "        weights = []\n",
    "        biases = []\n",
    "        for i in range(len(layers) - 1):\n",
    "            w_size = layers[i] * layers[i+1]\n",
    "            weights.append(parts[i].reshape(layers[i+1], layers[i]))\n",
    "            biases.append(parts[i + len(layers) - 1])\n",
    "            \n",
    "        return cls(weights, biases).to(device)\n",
    "    \n",
    "    def to(self, device):\n",
    "        \"\"\"Move weights and biases to specified device\"\"\"\n",
    "        weights = tuple(w.to(device) for w in self.weights)\n",
    "        biases = tuple(b.to(device) for b in self.biases)\n",
    "        return WeightSpaceObject(weights, biases)\n",
    "        \n",
    "    def map(self, fn):\n",
    "        new_weights = tuple(fn(w) for w in self.weights)\n",
    "        new_biases = tuple(fn(b) for b in self.biases)\n",
    "        return WeightSpaceObject(new_weights, new_biases)\n",
    "\n",
    "# Simple Bunch class for storing data\n",
    "class Bunch:\n",
    "    def __init__(self, **kwargs):\n",
    "        self.__dict__.update(kwargs)\n",
    "\n",
    "# Safe deflatten function that checks bounds before accessing tensors\n",
    "def safe_deflatten(flat, batch_size, starts, ends):\n",
    "    \"\"\"Safely deflatten a tensor without index errors\"\"\"\n",
    "    parts = []\n",
    "    actual_batch_size = flat.size(0)\n",
    "    \n",
    "    # Ensure we don't exceed the actual batch size\n",
    "    safe_batch_size = min(actual_batch_size, batch_size)\n",
    "    \n",
    "    for i in range(safe_batch_size):\n",
    "        batch_parts = []\n",
    "        for si, ei in zip(starts, ends):\n",
    "            if si < ei:  # Only process valid ranges\n",
    "                batch_parts.append(flat[i][si:ei])\n",
    "        parts.append(batch_parts)\n",
    "    \n",
    "    return parts\n",
    "\n",
    "def count_parameters(model):\n",
    "    return sum(p.numel() for p in model.parameters() if p.requires_grad)\n",
    "\n",
    "def zero_like_wso(wso):\n",
    "    zero_weights = tuple(torch.zeros_like(w) for w in wso.weights)\n",
    "    zero_biases = tuple(torch.zeros_like(b) for b in wso.biases)\n",
    "    return WeightSpaceObject(zero_weights, zero_biases)\n"
   ]
  },
  {
   "cell_type": "code",
   "execution_count": 118,
   "id": "1394eac8-466f-42fd-962a-85bcfcacde19",
   "metadata": {},
   "outputs": [
    {
     "name": "stdout",
     "output_type": "stream",
     "text": [
      "03:55:50 INFO: Creating permuted model dataset using rebasin...\n"
     ]
    },
    {
     "name": "stderr",
     "output_type": "stream",
     "text": [
      "/var/folders/js/697gbr4j3lzdh9ccy7qxb5ph0000gn/T/ipykernel_44134/2150754507.py:158: FutureWarning: You are using `torch.load` with `weights_only=False` (the current default value), which uses the default pickle module implicitly. It is possible to construct malicious pickle data which will execute arbitrary code during unpickling (See https://github.com/pytorch/pytorch/blob/main/SECURITY.md#untrusted-models for more details). In a future release, the default value for `weights_only` will be flipped to `True`. This limits the functions that could be executed during unpickling. Arbitrary objects will no longer be allowed to be loaded via this mode unless they are explicitly allowlisted by the user via `torch.serialization.add_safe_globals`. We recommend you start setting `weights_only=True` for any use case where you don't have full control of the loaded file. Please open an issue on GitHub for any issues related to this experimental feature.\n",
      "  weights, biases = torch.load(model_path, map_location=device)\n",
      "/var/folders/js/697gbr4j3lzdh9ccy7qxb5ph0000gn/T/ipykernel_44134/2150754507.py:69: UserWarning: To copy construct from a tensor, it is recommended to use sourceTensor.clone().detach() or sourceTensor.clone().detach().requires_grad_(True), rather than torch.tensor(sourceTensor).\n",
      "  w = torch.index_select(w, axis, torch.tensor(perm[p], device=w.device))\n"
     ]
    },
    {
     "name": "stdout",
     "output_type": "stream",
     "text": [
      "03:55:50 INFO: Converting models to WeightSpaceObjects...\n"
     ]
    },
    {
     "name": "stderr",
     "output_type": "stream",
     "text": [
      "100%|██████████████████████████████████████| 199/199 [00:00<00:00, 46548.80it/s]"
     ]
    },
    {
     "name": "stdout",
     "output_type": "stream",
     "text": [
      "03:55:50 INFO: Created 199 permuted weight configurations\n"
     ]
    },
    {
     "name": "stderr",
     "output_type": "stream",
     "text": [
      "\n"
     ]
    }
   ],
   "source": [
    "# Set up configuration\n",
    "layer_layout = [196, 32, 32, 10]  # MLP architecture for MNIST\n",
    "batch_size = 8\n",
    "\n",
    "# Create MNIST test dataset for evaluation\n",
    "from torchvision import datasets, transforms\n",
    "transform = transforms.Compose([\n",
    "    transforms.ToTensor(),\n",
    "    transforms.Resize((14, 14)),\n",
    "    transforms.Normalize((0.5,), (0.5,))\n",
    "])\n",
    "test_data = datasets.MNIST('.', train=False, download=True, transform=transform)\n",
    "test_loader = torch.utils.data.DataLoader(test_data, batch_size=32, shuffle=False)\n",
    "\n",
    "\n",
    "logging.info(\"Creating permuted model dataset using rebasin...\")\n",
    "ref_point = 0 \n",
    "\n",
    "ref_model, original_models, permuted_models = get_permuted_models_data(ref_point=ref_point)\n",
    "\n",
    "# Create WSO objects from permuted models\n",
    "logging.info(\"Converting models to WeightSpaceObjects...\")\n",
    "weights_list = []\n",
    "for model in tqdm(permuted_models):\n",
    "    weights = (\n",
    "        model.fc1.weight.data.clone(),\n",
    "        model.fc2.weight.data.clone(),\n",
    "        model.fc3.weight.data.clone()\n",
    "    )\n",
    "    \n",
    "    biases = (\n",
    "        model.fc1.bias.data.clone(),\n",
    "        model.fc2.bias.data.clone(), \n",
    "        model.fc3.bias.data.clone()\n",
    "    )\n",
    "    \n",
    "    wso = WeightSpaceObject(weights, biases)\n",
    "    weights_list.append(wso)\n",
    "\n",
    "logging.info(f\"Created {len(weights_list)} permuted weight configurations\")"
   ]
  },
  {
   "cell_type": "code",
   "execution_count": null,
   "id": "ac79e74b-00b9-418b-ac11-7ad7bd224a60",
   "metadata": {},
   "outputs": [],
   "source": []
  },
  {
   "cell_type": "markdown",
   "id": "736d295e-cf75-4930-9a3b-22b4d3c34017",
   "metadata": {},
   "source": [
    "# VAE time: "
   ]
  },
  {
   "cell_type": "code",
   "execution_count": 142,
   "id": "38d63370-6557-4712-9104-530e960f12a6",
   "metadata": {},
   "outputs": [],
   "source": [
    "import torch\n",
    "import torch.nn as nn\n",
    "import torch.nn.functional as F\n",
    "import torch.optim as optim\n",
    "from torch.utils.data import DataLoader, TensorDataset\n",
    "import numpy as np\n",
    "import matplotlib.pyplot as plt\n",
    "import logging\n",
    "import os\n",
    "from tqdm import tqdm\n",
    "import json\n",
    "from datetime import datetime\n",
    "\n",
    "# Set up logging\n",
    "logging.basicConfig(level=logging.INFO, format='%(asctime)s - %(levelname)s - %(message)s')\n",
    "logger = logging.getLogger(__name__)\n",
    "\n",
    "class WeightVAE(nn.Module):\n",
    "    \"\"\"\n",
    "    Variational Autoencoder for neural network weight vectors.\n",
    "    Based on the D2NWG paper: https://arxiv.org/pdf/2402.18153\n",
    "    \"\"\"\n",
    "    def __init__(self, input_dim=7690, latent_dim=1024, hidden_dims=[4096, 2048]):\n",
    "        super(WeightVAE, self).__init__()\n",
    "        \n",
    "        self.input_dim = input_dim\n",
    "        self.latent_dim = latent_dim\n",
    "        self.hidden_dims = hidden_dims\n",
    "        \n",
    "        # Encoder layers\n",
    "        encoder_layers = []\n",
    "        prev_dim = input_dim\n",
    "        \n",
    "        # Build encoder with hidden layers\n",
    "        for hidden_dim in hidden_dims:\n",
    "            encoder_layers.extend([\n",
    "                nn.Linear(prev_dim, hidden_dim),\n",
    "                nn.ReLU(),\n",
    "                nn.BatchNorm1d(hidden_dim),\n",
    "                nn.Dropout(0.1)\n",
    "            ])\n",
    "            prev_dim = hidden_dim\n",
    "        \n",
    "        self.encoder = nn.Sequential(*encoder_layers)\n",
    "        \n",
    "        # Mean and log variance layers for reparameterization\n",
    "        self.fc_mu = nn.Linear(hidden_dims[-1], latent_dim)\n",
    "        self.fc_logvar = nn.Linear(hidden_dims[-1], latent_dim)\n",
    "        \n",
    "        # Decoder layers\n",
    "        decoder_layers = []\n",
    "        prev_dim = latent_dim\n",
    "        \n",
    "        # Build decoder (reverse of encoder)\n",
    "        reversed_hidden_dims = list(reversed(hidden_dims))\n",
    "        for hidden_dim in reversed_hidden_dims:\n",
    "            decoder_layers.extend([\n",
    "                nn.Linear(prev_dim, hidden_dim),\n",
    "                nn.ReLU(),\n",
    "                nn.BatchNorm1d(hidden_dim),\n",
    "                nn.Dropout(0.1)\n",
    "            ])\n",
    "            prev_dim = hidden_dim\n",
    "        \n",
    "        # Final reconstruction layer\n",
    "        decoder_layers.append(nn.Linear(prev_dim, input_dim))\n",
    "        \n",
    "        self.decoder = nn.Sequential(*decoder_layers)\n",
    "        \n",
    "        # Initialize weights\n",
    "        self.apply(self._init_weights)\n",
    "    \n",
    "    def _init_weights(self, module):\n",
    "        \"\"\"Initialize weights using Xavier initialization\"\"\"\n",
    "        if isinstance(module, nn.Linear):\n",
    "            nn.init.xavier_uniform_(module.weight)\n",
    "            if module.bias is not None:\n",
    "                nn.init.zeros_(module.bias)\n",
    "    \n",
    "    def encode(self, x):\n",
    "        \"\"\"Encode input to latent parameters\"\"\"\n",
    "        h = self.encoder(x)\n",
    "        mu = self.fc_mu(h)\n",
    "        logvar = self.fc_logvar(h)\n",
    "        return mu, logvar\n",
    "    \n",
    "    def reparameterize(self, mu, logvar):\n",
    "        \"\"\"Reparameterization trick: sample from N(mu, var) using N(0,1)\"\"\"\n",
    "        if self.training:\n",
    "            std = torch.exp(0.5 * logvar)\n",
    "            eps = torch.randn_like(std)\n",
    "            return mu + eps * std\n",
    "        else:\n",
    "            return mu\n",
    "    \n",
    "    def decode(self, z):\n",
    "        \"\"\"Decode latent representation to reconstruction\"\"\"\n",
    "        return self.decoder(z)\n",
    "    \n",
    "    def forward(self, x):\n",
    "        \"\"\"Forward pass through VAE\"\"\"\n",
    "        mu, logvar = self.encode(x)\n",
    "        z = self.reparameterize(mu, logvar)\n",
    "        x_recon = self.decode(z)\n",
    "        return x_recon, mu, logvar\n",
    "\n",
    "def vae_loss(x_recon, x, mu, logvar, beta=1.0):\n",
    "    \"\"\"\n",
    "    VAE loss function as defined in Equation 1 of the paper:\n",
    "    L = -E[log p(w|z)] + β * KL[q(z|w) || p(z)]\n",
    "    \n",
    "    Args:\n",
    "        x_recon: Reconstructed input [batch_size, input_dim]\n",
    "        x: Original input [batch_size, input_dim]\n",
    "        mu: Mean of latent distribution [batch_size, latent_dim]\n",
    "        logvar: Log variance of latent distribution [batch_size, latent_dim]\n",
    "        beta: KL divergence weight (β parameter from paper)\n",
    "    \n",
    "    Returns:\n",
    "        loss: Total VAE loss\n",
    "        recon_loss: Reconstruction loss component\n",
    "        kl_loss: KL divergence component\n",
    "    \"\"\"\n",
    "    # Reconstruction loss: -E[log p(w|z)]\n",
    "    # Using MSE as reconstruction loss (equivalent to assuming Gaussian likelihood)\n",
    "    recon_loss = F.mse_loss(x_recon, x, reduction='sum') / x.size(0)\n",
    "    \n",
    "    # KL divergence: KL[q(z|w) || p(z)] where p(z) = N(0,I)\n",
    "    # KL divergence between q(z|x) = N(mu, sigma^2) and p(z) = N(0, I)\n",
    "    # KL = 0.5 * sum(1 + log(sigma^2) - mu^2 - sigma^2)\n",
    "    kl_loss = -0.5 * torch.sum(1 + logvar - mu.pow(2) - logvar.exp()) / x.size(0)\n",
    "    \n",
    "    # Total loss with beta weighting\n",
    "    total_loss = recon_loss + beta * kl_loss\n",
    "    \n",
    "    return total_loss, recon_loss, kl_loss\n",
    "\n",
    "class VAETrainer:\n",
    "    \"\"\"Training class for the Weight VAE\"\"\"\n",
    "    \n",
    "    def __init__(self, model, device='cuda' if torch.cuda.is_available() else 'cpu'):\n",
    "        self.model = model\n",
    "        self.device = device\n",
    "        self.model.to(device)\n",
    "        \n",
    "        # Training history\n",
    "        self.train_losses = []\n",
    "        self.val_losses = []\n",
    "        self.recon_losses = []\n",
    "        self.kl_losses = []\n",
    "        \n",
    "    def train_epoch(self, dataloader, optimizer, beta=1.0):\n",
    "        \"\"\"Train for one epoch\"\"\"\n",
    "        self.model.train()\n",
    "        total_loss = 0\n",
    "        total_recon = 0\n",
    "        total_kl = 0\n",
    "        \n",
    "        pbar = tqdm(dataloader, desc='Training')\n",
    "        for batch_idx, (data,) in enumerate(pbar):\n",
    "            data = data.to(self.device)\n",
    "            \n",
    "            optimizer.zero_grad()\n",
    "            \n",
    "            # Forward pass\n",
    "            x_recon, mu, logvar = self.model(data)\n",
    "            \n",
    "            # Compute loss\n",
    "            loss, recon_loss, kl_loss = vae_loss(x_recon, data, mu, logvar, beta)\n",
    "            \n",
    "            # Backward pass\n",
    "            loss.backward()\n",
    "            optimizer.step()\n",
    "            \n",
    "            # Update metrics\n",
    "            total_loss += loss.item()\n",
    "            total_recon += recon_loss.item()\n",
    "            total_kl += kl_loss.item()\n",
    "            \n",
    "            # Update progress bar\n",
    "            pbar.set_postfix({\n",
    "                'Loss': f'{loss.item():.4f}',\n",
    "                'Recon': f'{recon_loss.item():.4f}',\n",
    "                'KL': f'{kl_loss.item():.4f}'\n",
    "            })\n",
    "        \n",
    "        avg_loss = total_loss / len(dataloader)\n",
    "        avg_recon = total_recon / len(dataloader)\n",
    "        avg_kl = total_kl / len(dataloader)\n",
    "        \n",
    "        return avg_loss, avg_recon, avg_kl\n",
    "    \n",
    "    def validate_epoch(self, dataloader, beta=1.0):\n",
    "        \"\"\"Validate for one epoch\"\"\"\n",
    "        self.model.eval()\n",
    "        total_loss = 0\n",
    "        total_recon = 0\n",
    "        total_kl = 0\n",
    "        \n",
    "        with torch.no_grad():\n",
    "            for data, in dataloader:\n",
    "                data = data.to(self.device)\n",
    "                \n",
    "                # Forward pass\n",
    "                x_recon, mu, logvar = self.model(data)\n",
    "                \n",
    "                # Compute loss\n",
    "                loss, recon_loss, kl_loss = vae_loss(x_recon, data, mu, logvar, beta)\n",
    "                \n",
    "                total_loss += loss.item()\n",
    "                total_recon += recon_loss.item()\n",
    "                total_kl += kl_loss.item()\n",
    "        \n",
    "        avg_loss = total_loss / len(dataloader)\n",
    "        avg_recon = total_recon / len(dataloader)\n",
    "        avg_kl = total_kl / len(dataloader)\n",
    "        \n",
    "        return avg_loss, avg_recon, avg_kl\n",
    "    \n",
    "    def train(self, train_loader, val_loader=None, epochs=100, lr=1e-3, \n",
    "              beta=1.0, beta_schedule=None, save_dir='./checkpoints', \n",
    "              save_frequency=10, patience=10):\n",
    "        \"\"\"\n",
    "        Full training loop with logging and checkpointing\n",
    "        \n",
    "        Args:\n",
    "            train_loader: Training data loader\n",
    "            val_loader: Validation data loader (optional)\n",
    "            epochs: Number of training epochs\n",
    "            lr: Learning rate\n",
    "            beta: KL divergence weight (β parameter)\n",
    "            beta_schedule: Function to schedule beta over epochs (optional)\n",
    "            save_dir: Directory to save checkpoints\n",
    "            save_frequency: Save checkpoint every N epochs\n",
    "            patience: Early stopping patience\n",
    "        \"\"\"\n",
    "        \n",
    "        # Create save directory\n",
    "        os.makedirs(save_dir, exist_ok=True)\n",
    "        \n",
    "        # Setup optimizer and scheduler\n",
    "        optimizer = optim.Adam(self.model.parameters(), lr=lr)\n",
    "        scheduler = optim.lr_scheduler.ReduceLROnPlateau(optimizer, 'min', patience=5, factor=0.5)\n",
    "        \n",
    "        best_val_loss = float('inf')\n",
    "        epochs_without_improvement = 0\n",
    "        \n",
    "        logger.info(f\"Starting training for {epochs} epochs\")\n",
    "        logger.info(f\"Device: {self.device}\")\n",
    "        logger.info(f\"Model parameters: {sum(p.numel() for p in self.model.parameters()):,}\")\n",
    "        \n",
    "        for epoch in range(epochs):\n",
    "            # Update beta if schedule provided\n",
    "            current_beta = beta_schedule(epoch) if beta_schedule else beta\n",
    "            \n",
    "            # Training\n",
    "            train_loss, train_recon, train_kl = self.train_epoch(\n",
    "                train_loader, optimizer, current_beta\n",
    "            )\n",
    "            \n",
    "            # Validation\n",
    "            if val_loader is not None:\n",
    "                val_loss, val_recon, val_kl = self.validate_epoch(val_loader, current_beta)\n",
    "                scheduler.step(val_loss)\n",
    "            else:\n",
    "                val_loss, val_recon, val_kl = train_loss, train_recon, train_kl\n",
    "            \n",
    "            # Store metrics\n",
    "            self.train_losses.append(train_loss)\n",
    "            self.val_losses.append(val_loss)\n",
    "            self.recon_losses.append(train_recon)\n",
    "            self.kl_losses.append(train_kl)\n",
    "            \n",
    "            # Logging\n",
    "            logger.info(\n",
    "                f\"Epoch {epoch+1}/{epochs} | \"\n",
    "                f\"Train Loss: {train_loss:.4f} | \"\n",
    "                f\"Val Loss: {val_loss:.4f} | \"\n",
    "                f\"Recon: {train_recon:.4f} | \"\n",
    "                f\"KL: {train_kl:.4f} | \"\n",
    "                f\"β: {current_beta:.4f} | \"\n",
    "                f\"LR: {optimizer.param_groups[0]['lr']:.6f}\"\n",
    "            )\n",
    "            \n",
    "            # Early stopping\n",
    "            # if val_loss < best_val_loss:\n",
    "            #     best_val_loss = val_loss\n",
    "            #     epochs_without_improvement = 0\n",
    "                \n",
    "            #     # Save best model\n",
    "            #     self.save_checkpoint(\n",
    "            #         os.path.join(save_dir, 'best_model.pth'),\n",
    "            #         epoch, best_val_loss, optimizer\n",
    "            #     )\n",
    "            # else:\n",
    "            #     epochs_without_improvement += 1\n",
    "                \n",
    "            #     if epochs_without_improvement >= patience:\n",
    "            #         logger.info(f\"Early stopping after {epoch+1} epochs\")\n",
    "            #         break\n",
    "            \n",
    "            # Save checkpoint\n",
    "            if (epoch + 1) % save_frequency == 0:\n",
    "                self.save_checkpoint(\n",
    "                    os.path.join(save_dir, f'checkpoint_epoch_{epoch+1}.pth'),\n",
    "                    epoch, val_loss, optimizer\n",
    "                )\n",
    "        \n",
    "        logger.info(\"Training completed!\")\n",
    "        \n",
    "        # Save final model\n",
    "        self.save_checkpoint(\n",
    "            os.path.join(save_dir, 'final_model.pth'),\n",
    "            epochs-1, val_loss, optimizer\n",
    "        )\n",
    "        \n",
    "        # Save training history\n",
    "        self.save_training_history(os.path.join(save_dir, 'training_history.json'))\n",
    "        \n",
    "        return self.train_losses, self.val_losses\n",
    "    \n",
    "    def save_checkpoint(self, filepath, epoch, loss, optimizer):\n",
    "        \"\"\"Save model checkpoint\"\"\"\n",
    "        checkpoint = {\n",
    "            'epoch': epoch,\n",
    "            'model_state_dict': self.model.state_dict(),\n",
    "            'optimizer_state_dict': optimizer.state_dict(),\n",
    "            'loss': loss,\n",
    "            'model_config': {\n",
    "                'input_dim': self.model.input_dim,\n",
    "                'latent_dim': self.model.latent_dim,\n",
    "                'hidden_dims': self.model.hidden_dims\n",
    "            }\n",
    "        }\n",
    "        torch.save(checkpoint, filepath)\n",
    "        logger.info(f\"Checkpoint saved: {filepath}\")\n",
    "    \n",
    "    def load_checkpoint(self, filepath, optimizer=None):\n",
    "        \"\"\"Load model checkpoint\"\"\"\n",
    "        checkpoint = torch.load(filepath, map_location=self.device)\n",
    "        self.model.load_state_dict(checkpoint['model_state_dict'])\n",
    "        \n",
    "        if optimizer is not None:\n",
    "            optimizer.load_state_dict(checkpoint['optimizer_state_dict'])\n",
    "        \n",
    "        logger.info(f\"Checkpoint loaded: {filepath}\")\n",
    "        return checkpoint['epoch'], checkpoint['loss']\n",
    "    \n",
    "    def save_training_history(self, filepath):\n",
    "        \"\"\"Save training history to JSON\"\"\"\n",
    "        history = {\n",
    "            'train_losses': self.train_losses,\n",
    "            'val_losses': self.val_losses,\n",
    "            'recon_losses': self.recon_losses,\n",
    "            'kl_losses': self.kl_losses,\n",
    "            'timestamp': datetime.now().isoformat()\n",
    "        }\n",
    "        \n",
    "        with open(filepath, 'w') as f:\n",
    "            json.dump(history, f, indent=2)\n",
    "        \n",
    "        logger.info(f\"Training history saved: {filepath}\")\n",
    "\n",
    "def create_sample_data(num_samples=1000, input_dim=7690):\n",
    "    \"\"\"Create sample weight vectors for testing\"\"\"\n",
    "    # Generate random weight vectors (simulating neural network weights)\n",
    "    weights = torch.randn(num_samples, input_dim)\n",
    "    \n",
    "    # Add some structure to make it more realistic\n",
    "    # Simulate different \"types\" of networks with different weight patterns\n",
    "    num_types = 5\n",
    "    type_labels = torch.randint(0, num_types, (num_samples,))\n",
    "    \n",
    "    for i in range(num_types):\n",
    "        mask = type_labels == i\n",
    "        if mask.sum() > 0:\n",
    "            # Add type-specific bias and scaling\n",
    "            bias = torch.randn(input_dim) * 0.1\n",
    "            scale = 0.5 + i * 0.2  # Different scales for different types\n",
    "            weights[mask] = weights[mask] * scale + bias\n",
    "    \n",
    "    return weights\n",
    "\n",
    "def plot_training_curves(train_losses, val_losses, recon_losses, kl_losses, save_path=None):\n",
    "    \"\"\"Plot training curves\"\"\"\n",
    "    fig, axes = plt.subplots(2, 2, figsize=(12, 8))\n",
    "    \n",
    "    # Total loss\n",
    "    axes[0, 0].plot(train_losses, label='Train')\n",
    "    axes[0, 0].plot(val_losses, label='Validation')\n",
    "    axes[0, 0].set_title('Total Loss')\n",
    "    axes[0, 0].set_xlabel('Epoch')\n",
    "    axes[0, 0].set_ylabel('Loss')\n",
    "    axes[0, 0].legend()\n",
    "    axes[0, 0].grid(True)\n",
    "    \n",
    "    # Reconstruction loss\n",
    "    axes[0, 1].plot(recon_losses, label='Reconstruction', color='orange')\n",
    "    axes[0, 1].set_title('Reconstruction Loss')\n",
    "    axes[0, 1].set_xlabel('Epoch')\n",
    "    axes[0, 1].set_ylabel('Loss')\n",
    "    axes[0, 1].legend()\n",
    "    axes[0, 1].grid(True)\n",
    "    \n",
    "    # KL divergence\n",
    "    axes[1, 0].plot(kl_losses, label='KL Divergence', color='green')\n",
    "    axes[1, 0].set_title('KL Divergence')\n",
    "    axes[1, 0].set_xlabel('Epoch')\n",
    "    axes[1, 0].set_ylabel('Loss')\n",
    "    axes[1, 0].legend()\n",
    "    axes[1, 0].grid(True)\n",
    "    \n",
    "    # Loss components comparison\n",
    "    axes[1, 1].plot(recon_losses, label='Reconstruction', alpha=0.7)\n",
    "    axes[1, 1].plot(kl_losses, label='KL Divergence', alpha=0.7)\n",
    "    axes[1, 1].set_title('Loss Components')\n",
    "    axes[1, 1].set_xlabel('Epoch')\n",
    "    axes[1, 1].set_ylabel('Loss')\n",
    "    axes[1, 1].legend()\n",
    "    axes[1, 1].grid(True)\n",
    "    \n",
    "    plt.tight_layout()\n",
    "    \n",
    "    if save_path:\n",
    "        plt.savefig(save_path, dpi=300, bbox_inches='tight')\n",
    "        logger.info(f\"Training curves saved: {save_path}\")\n",
    "    \n",
    "    plt.show()\n",
    "\n",
    "def beta_annealing_schedule(epoch, max_epochs=100, initial_beta=0.0, final_beta=1.0):\n",
    "    \"\"\"Beta annealing schedule for VAE training\"\"\"\n",
    "    if epoch < max_epochs // 2:\n",
    "        return initial_beta + (final_beta - initial_beta) * (epoch / (max_epochs // 2))\n",
    "    else:\n",
    "        return final_beta"
   ]
  },
  {
   "cell_type": "code",
   "execution_count": 144,
   "id": "00f19cfd-8eff-4932-a2c4-d60a2bef21e2",
   "metadata": {},
   "outputs": [
    {
     "name": "stdout",
     "output_type": "stream",
     "text": [
      "04:51:17 INFO: Converting to flat tensors...\n",
      "Flattened MLP size: torch.Size([199, 7690])\n",
      "04:51:17 INFO: Train samples: 159, Val samples: 40\n"
     ]
    }
   ],
   "source": [
    "# Create flat vectors\n",
    "logging.info(\"Converting to flat tensors...\")\n",
    "flat_target_weights = torch.stack([wso.flatten(device) for wso in weights_list])\n",
    "flat_dim = flat_target_weights.shape[1]\n",
    "\n",
    "print(f\"Flattened MLP size: {flat_target_weights.shape}\")\n",
    "\n",
    "batch_size = 32\n",
    "\n",
    "# Split data\n",
    "train_size = int(0.8 * len(flat_target_weights))\n",
    "val_size = len(flat_target_weights) - train_size\n",
    "\n",
    "train_data, val_data = torch.utils.data.random_split(\n",
    "    flat_target_weights, [train_size, val_size]\n",
    ")\n",
    "\n",
    "# Create dataloaders\n",
    "train_dataset = TensorDataset(train_data.dataset[train_data.indices])\n",
    "val_dataset = TensorDataset(val_data.dataset[val_data.indices])\n",
    "\n",
    "train_loader = DataLoader(train_dataset, batch_size=batch_size, shuffle=True, num_workers=2)\n",
    "val_loader = DataLoader(val_dataset, batch_size=batch_size, shuffle=False, num_workers=2)\n",
    "\n",
    "logger.info(f\"Train samples: {len(train_data)}, Val samples: {len(val_data)}\")"
   ]
  },
  {
   "cell_type": "code",
   "execution_count": 159,
   "id": "dee59d9f-d700-431e-8d22-3693647bf9a1",
   "metadata": {},
   "outputs": [
    {
     "name": "stdout",
     "output_type": "stream",
     "text": [
      "05:22:08 INFO: Created VAE model with 7,690 parameters\n",
      "05:22:08 INFO: Starting training for 50 epochs\n",
      "05:22:08 INFO: Device: cpu\n",
      "05:22:08 INFO: Model parameters: 128,091,658\n"
     ]
    },
    {
     "name": "stderr",
     "output_type": "stream",
     "text": [
      "Training: 100%|█| 5/5 [00:05<00:00,  1.09s/it, Loss=5924.6230, Recon=5924.6230, \n"
     ]
    },
    {
     "name": "stdout",
     "output_type": "stream",
     "text": [
      "05:22:15 INFO: Epoch 1/50 | Train Loss: 5998.5912 | Val Loss: 295.2237 | Recon: 5998.5912 | KL: 1357.9518 | β: 0.0000 | LR: 0.001000\n"
     ]
    },
    {
     "name": "stderr",
     "output_type": "stream",
     "text": [
      "Training: 100%|█| 5/5 [00:03<00:00,  1.35it/s, Loss=5251.5415, Recon=5176.2280, \n"
     ]
    },
    {
     "name": "stdout",
     "output_type": "stream",
     "text": [
      "05:22:20 INFO: Epoch 2/50 | Train Loss: 5609.6068 | Val Loss: 669.9768 | Recon: 5537.0795 | KL: 1813.1864 | β: 0.0400 | LR: 0.001000\n"
     ]
    },
    {
     "name": "stderr",
     "output_type": "stream",
     "text": [
      "Training: 100%|█| 5/5 [00:03<00:00,  1.43it/s, Loss=5995185.5000, Recon=3640.361\n"
     ]
    },
    {
     "name": "stdout",
     "output_type": "stream",
     "text": [
      "05:22:25 INFO: Epoch 3/50 | Train Loss: 1221322.1643 | Val Loss: 1855.0539 | Recon: 4218.6126 | KL: 15213793.9472 | β: 0.0800 | LR: 0.001000\n"
     ]
    },
    {
     "name": "stderr",
     "output_type": "stream",
     "text": [
      "Training: 100%|█| 5/5 [00:03<00:00,  1.40it/s, Loss=3204.6406, Recon=2910.7036, \n"
     ]
    },
    {
     "name": "stdout",
     "output_type": "stream",
     "text": [
      "05:22:30 INFO: Epoch 4/50 | Train Loss: 3491.1333 | Val Loss: 3558.7959 | Recon: 3116.1326 | KL: 3125.0055 | β: 0.1200 | LR: 0.001000\n"
     ]
    },
    {
     "name": "stderr",
     "output_type": "stream",
     "text": [
      "Training: 100%|█| 5/5 [00:03<00:00,  1.33it/s, Loss=2627.2437, Recon=2229.0364, \n"
     ]
    },
    {
     "name": "stdout",
     "output_type": "stream",
     "text": [
      "05:22:35 INFO: Epoch 5/50 | Train Loss: 2832.9099 | Val Loss: 5425.5532 | Recon: 2359.7608 | KL: 2957.1818 | β: 0.1600 | LR: 0.001000\n"
     ]
    },
    {
     "name": "stderr",
     "output_type": "stream",
     "text": [
      "Training: 100%|█| 5/5 [00:03<00:00,  1.55it/s, Loss=2216.6953, Recon=1842.1278, \n"
     ]
    },
    {
     "name": "stdout",
     "output_type": "stream",
     "text": [
      "05:22:39 INFO: Epoch 6/50 | Train Loss: 2387.8798 | Val Loss: 4502.5391 | Recon: 1937.5659 | KL: 2251.5694 | β: 0.2000 | LR: 0.001000\n"
     ]
    },
    {
     "name": "stderr",
     "output_type": "stream",
     "text": [
      "Training: 100%|█| 5/5 [00:03<00:00,  1.35it/s, Loss=2198.6685, Recon=1708.3834, \n"
     ]
    },
    {
     "name": "stdout",
     "output_type": "stream",
     "text": [
      "05:22:45 INFO: Epoch 7/50 | Train Loss: 2358.6574 | Val Loss: 2942.6393 | Recon: 1818.4416 | KL: 2250.8989 | β: 0.2400 | LR: 0.000500\n"
     ]
    },
    {
     "name": "stderr",
     "output_type": "stream",
     "text": [
      "Training: 100%|█| 5/5 [00:04<00:00,  1.14it/s, Loss=1783.0701, Recon=1413.8762, \n"
     ]
    },
    {
     "name": "stdout",
     "output_type": "stream",
     "text": [
      "05:22:50 INFO: Epoch 8/50 | Train Loss: 1943.6502 | Val Loss: 1435.4075 | Recon: 1436.3814 | KL: 1811.6742 | β: 0.2800 | LR: 0.000500\n"
     ]
    },
    {
     "name": "stderr",
     "output_type": "stream",
     "text": [
      "Training: 100%|█| 5/5 [00:04<00:00,  1.25it/s, Loss=1878.1399, Recon=1248.7712, \n"
     ]
    },
    {
     "name": "stdout",
     "output_type": "stream",
     "text": [
      "05:22:56 INFO: Epoch 9/50 | Train Loss: 1824.2879 | Val Loss: 925.3759 | Recon: 1316.1488 | KL: 1587.9346 | β: 0.3200 | LR: 0.000500\n"
     ]
    },
    {
     "name": "stderr",
     "output_type": "stream",
     "text": [
      "Training: 100%|█| 5/5 [00:03<00:00,  1.30it/s, Loss=1621.0706, Recon=1184.5455, \n"
     ]
    },
    {
     "name": "stdout",
     "output_type": "stream",
     "text": [
      "05:23:01 INFO: Epoch 10/50 | Train Loss: 1866.4093 | Val Loss: 820.3975 | Recon: 1213.2692 | KL: 1814.2780 | β: 0.3600 | LR: 0.000500\n"
     ]
    },
    {
     "name": "stderr",
     "output_type": "stream",
     "text": [
      "Training: 100%|█| 5/5 [00:04<00:00,  1.22it/s, Loss=1772.2645, Recon=1214.9866, \n"
     ]
    },
    {
     "name": "stdout",
     "output_type": "stream",
     "text": [
      "05:23:07 INFO: Epoch 11/50 | Train Loss: 1698.7009 | Val Loss: 845.4522 | Recon: 1187.2368 | KL: 1278.6602 | β: 0.4000 | LR: 0.000500\n"
     ]
    },
    {
     "name": "stderr",
     "output_type": "stream",
     "text": [
      "Training: 100%|█| 5/5 [00:04<00:00,  1.23it/s, Loss=1734.4026, Recon=1194.5729, \n"
     ]
    },
    {
     "name": "stdout",
     "output_type": "stream",
     "text": [
      "05:23:12 INFO: Epoch 12/50 | Train Loss: 1746.5574 | Val Loss: 831.7089 | Recon: 1195.9399 | KL: 1251.4034 | β: 0.4400 | LR: 0.000500\n"
     ]
    },
    {
     "name": "stderr",
     "output_type": "stream",
     "text": [
      "Training: 100%|█| 5/5 [00:04<00:00,  1.21it/s, Loss=1687.7783, Recon=1129.3434, \n"
     ]
    },
    {
     "name": "stdout",
     "output_type": "stream",
     "text": [
      "05:23:17 INFO: Epoch 13/50 | Train Loss: 1665.7233 | Val Loss: 922.4621 | Recon: 1124.5367 | KL: 1127.4722 | β: 0.4800 | LR: 0.000250\n"
     ]
    },
    {
     "name": "stderr",
     "output_type": "stream",
     "text": [
      "Training: 100%|█| 5/5 [00:04<00:00,  1.25it/s, Loss=1407.2537, Recon=892.6677, K\n"
     ]
    },
    {
     "name": "stdout",
     "output_type": "stream",
     "text": [
      "05:23:23 INFO: Epoch 14/50 | Train Loss: 1563.6231 | Val Loss: 597.7824 | Recon: 997.6629 | KL: 1088.3851 | β: 0.5200 | LR: 0.000250\n"
     ]
    },
    {
     "name": "stderr",
     "output_type": "stream",
     "text": [
      "Training: 100%|█| 5/5 [00:03<00:00,  1.31it/s, Loss=1629.5447, Recon=971.0840, K\n"
     ]
    },
    {
     "name": "stdout",
     "output_type": "stream",
     "text": [
      "05:23:28 INFO: Epoch 15/50 | Train Loss: 1600.4686 | Val Loss: 582.3332 | Recon: 966.0293 | KL: 1132.9274 | β: 0.5600 | LR: 0.000250\n"
     ]
    },
    {
     "name": "stderr",
     "output_type": "stream",
     "text": [
      "Training: 100%|█| 5/5 [00:03<00:00,  1.42it/s, Loss=1804.9541, Recon=943.5547, K\n"
     ]
    },
    {
     "name": "stdout",
     "output_type": "stream",
     "text": [
      "05:23:33 INFO: Epoch 16/50 | Train Loss: 1540.2541 | Val Loss: 601.4227 | Recon: 910.6927 | KL: 1049.2689 | β: 0.6000 | LR: 0.000250\n"
     ]
    },
    {
     "name": "stderr",
     "output_type": "stream",
     "text": [
      "Training: 100%|█| 5/5 [00:03<00:00,  1.52it/s, Loss=1562.6854, Recon=944.8917, K\n"
     ]
    },
    {
     "name": "stdout",
     "output_type": "stream",
     "text": [
      "05:23:37 INFO: Epoch 17/50 | Train Loss: 1560.0041 | Val Loss: 621.5980 | Recon: 905.9283 | KL: 1021.9935 | β: 0.6400 | LR: 0.000250\n"
     ]
    },
    {
     "name": "stderr",
     "output_type": "stream",
     "text": [
      "Training: 100%|█| 5/5 [00:03<00:00,  1.41it/s, Loss=1409.5605, Recon=869.8186, K\n"
     ]
    },
    {
     "name": "stdout",
     "output_type": "stream",
     "text": [
      "05:23:42 INFO: Epoch 18/50 | Train Loss: 1526.7278 | Val Loss: 770.6855 | Recon: 867.3556 | KL: 969.6650 | β: 0.6800 | LR: 0.000250\n"
     ]
    },
    {
     "name": "stderr",
     "output_type": "stream",
     "text": [
      "Training: 100%|█| 5/5 [00:03<00:00,  1.34it/s, Loss=1479.1890, Recon=874.9992, K\n"
     ]
    },
    {
     "name": "stdout",
     "output_type": "stream",
     "text": [
      "05:23:48 INFO: Epoch 19/50 | Train Loss: 1526.5799 | Val Loss: 745.0421 | Recon: 872.7843 | KL: 908.0494 | β: 0.7200 | LR: 0.000125\n"
     ]
    },
    {
     "name": "stderr",
     "output_type": "stream",
     "text": [
      "Training: 100%|█| 5/5 [00:03<00:00,  1.25it/s, Loss=1457.8164, Recon=807.5809, K\n"
     ]
    },
    {
     "name": "stdout",
     "output_type": "stream",
     "text": [
      "05:23:53 INFO: Epoch 20/50 | Train Loss: 1496.1118 | Val Loss: 523.5514 | Recon: 846.1949 | KL: 855.1538 | β: 0.7600 | LR: 0.000125\n",
      "05:23:54 INFO: Checkpoint saved: ./weight_vae_checkpoints/checkpoint_epoch_20.pth\n"
     ]
    },
    {
     "name": "stderr",
     "output_type": "stream",
     "text": [
      "Training: 100%|█| 5/5 [00:03<00:00,  1.36it/s, Loss=1412.7522, Recon=817.6395, K\n"
     ]
    },
    {
     "name": "stdout",
     "output_type": "stream",
     "text": [
      "05:23:59 INFO: Epoch 21/50 | Train Loss: 1564.5963 | Val Loss: 612.2701 | Recon: 815.0277 | KL: 936.9607 | β: 0.8000 | LR: 0.000125\n"
     ]
    },
    {
     "name": "stderr",
     "output_type": "stream",
     "text": [
      "Training: 100%|█| 5/5 [00:03<00:00,  1.29it/s, Loss=1486.0620, Recon=798.6281, K\n"
     ]
    },
    {
     "name": "stdout",
     "output_type": "stream",
     "text": [
      "05:24:05 INFO: Epoch 22/50 | Train Loss: 1467.6698 | Val Loss: 550.9541 | Recon: 788.3561 | KL: 808.7068 | β: 0.8400 | LR: 0.000125\n"
     ]
    },
    {
     "name": "stderr",
     "output_type": "stream",
     "text": [
      "Training: 100%|█| 5/5 [00:04<00:00,  1.19it/s, Loss=1454.2727, Recon=798.0165, K\n"
     ]
    },
    {
     "name": "stdout",
     "output_type": "stream",
     "text": [
      "05:24:10 INFO: Epoch 23/50 | Train Loss: 1511.2628 | Val Loss: 545.3210 | Recon: 804.0833 | KL: 803.6131 | β: 0.8800 | LR: 0.000125\n"
     ]
    },
    {
     "name": "stderr",
     "output_type": "stream",
     "text": [
      "Training: 100%|█| 5/5 [00:03<00:00,  1.36it/s, Loss=1483.1194, Recon=815.0926, K\n"
     ]
    },
    {
     "name": "stdout",
     "output_type": "stream",
     "text": [
      "05:24:15 INFO: Epoch 24/50 | Train Loss: 1777.6910 | Val Loss: 550.8544 | Recon: 804.8072 | KL: 1057.4824 | β: 0.9200 | LR: 0.000125\n"
     ]
    },
    {
     "name": "stderr",
     "output_type": "stream",
     "text": [
      "Training: 100%|█| 5/5 [00:04<00:00,  1.22it/s, Loss=1423.2720, Recon=799.4924, K\n"
     ]
    },
    {
     "name": "stdout",
     "output_type": "stream",
     "text": [
      "05:24:21 INFO: Epoch 25/50 | Train Loss: 1509.6964 | Val Loss: 655.8077 | Recon: 796.9380 | KL: 742.4567 | β: 0.9600 | LR: 0.000063\n"
     ]
    },
    {
     "name": "stderr",
     "output_type": "stream",
     "text": [
      "Training: 100%|█| 5/5 [00:03<00:00,  1.31it/s, Loss=1324.0415, Recon=728.8105, K\n"
     ]
    },
    {
     "name": "stdout",
     "output_type": "stream",
     "text": [
      "05:24:26 INFO: Epoch 26/50 | Train Loss: 1533.7090 | Val Loss: 521.4853 | Recon: 771.7493 | KL: 761.9597 | β: 1.0000 | LR: 0.000063\n"
     ]
    },
    {
     "name": "stderr",
     "output_type": "stream",
     "text": [
      "Training: 100%|█| 5/5 [00:04<00:00,  1.21it/s, Loss=1367.0946, Recon=732.3934, K\n"
     ]
    },
    {
     "name": "stdout",
     "output_type": "stream",
     "text": [
      "05:24:31 INFO: Epoch 27/50 | Train Loss: 1467.2403 | Val Loss: 530.2982 | Recon: 726.0192 | KL: 741.2210 | β: 1.0000 | LR: 0.000063\n"
     ]
    },
    {
     "name": "stderr",
     "output_type": "stream",
     "text": [
      "Training: 100%|█| 5/5 [00:04<00:00,  1.13it/s, Loss=1649.3987, Recon=754.5977, K\n"
     ]
    },
    {
     "name": "stdout",
     "output_type": "stream",
     "text": [
      "05:24:37 INFO: Epoch 28/50 | Train Loss: 1505.5334 | Val Loss: 485.4213 | Recon: 739.5753 | KL: 765.9582 | β: 1.0000 | LR: 0.000063\n"
     ]
    },
    {
     "name": "stderr",
     "output_type": "stream",
     "text": [
      "Training: 100%|█| 5/5 [00:04<00:00,  1.17it/s, Loss=1445.2186, Recon=738.9025, K\n"
     ]
    },
    {
     "name": "stdout",
     "output_type": "stream",
     "text": [
      "05:24:43 INFO: Epoch 29/50 | Train Loss: 1481.3221 | Val Loss: 478.3316 | Recon: 733.2149 | KL: 748.1072 | β: 1.0000 | LR: 0.000063\n"
     ]
    },
    {
     "name": "stderr",
     "output_type": "stream",
     "text": [
      "Training: 100%|█| 5/5 [00:04<00:00,  1.25it/s, Loss=1440.2620, Recon=711.9705, K\n"
     ]
    },
    {
     "name": "stdout",
     "output_type": "stream",
     "text": [
      "05:24:48 INFO: Epoch 30/50 | Train Loss: 1467.0332 | Val Loss: 474.2673 | Recon: 734.5973 | KL: 732.4359 | β: 1.0000 | LR: 0.000063\n"
     ]
    },
    {
     "name": "stderr",
     "output_type": "stream",
     "text": [
      "Training: 100%|█| 5/5 [00:03<00:00,  1.35it/s, Loss=1414.8744, Recon=719.3354, K\n"
     ]
    },
    {
     "name": "stdout",
     "output_type": "stream",
     "text": [
      "05:24:53 INFO: Epoch 31/50 | Train Loss: 1437.7170 | Val Loss: 435.7780 | Recon: 721.4661 | KL: 716.2509 | β: 1.0000 | LR: 0.000031\n"
     ]
    },
    {
     "name": "stderr",
     "output_type": "stream",
     "text": [
      "Training: 100%|█| 5/5 [00:04<00:00,  1.21it/s, Loss=1369.7244, Recon=711.9155, K\n"
     ]
    },
    {
     "name": "stdout",
     "output_type": "stream",
     "text": [
      "05:24:59 INFO: Epoch 32/50 | Train Loss: 1463.8017 | Val Loss: 386.6165 | Recon: 720.9505 | KL: 742.8512 | β: 1.0000 | LR: 0.000031\n"
     ]
    },
    {
     "name": "stderr",
     "output_type": "stream",
     "text": [
      "Training: 100%|█| 5/5 [00:04<00:00,  1.05it/s, Loss=1338.3523, Recon=658.1582, K\n"
     ]
    },
    {
     "name": "stdout",
     "output_type": "stream",
     "text": [
      "05:25:05 INFO: Epoch 33/50 | Train Loss: 1404.5647 | Val Loss: 363.6097 | Recon: 694.0754 | KL: 710.4893 | β: 1.0000 | LR: 0.000031\n"
     ]
    },
    {
     "name": "stderr",
     "output_type": "stream",
     "text": [
      "Training: 100%|█| 5/5 [00:04<00:00,  1.03it/s, Loss=1357.9202, Recon=693.4936, K\n"
     ]
    },
    {
     "name": "stdout",
     "output_type": "stream",
     "text": [
      "05:25:11 INFO: Epoch 34/50 | Train Loss: 1433.0958 | Val Loss: 356.0373 | Recon: 703.5094 | KL: 729.5863 | β: 1.0000 | LR: 0.000031\n"
     ]
    },
    {
     "name": "stderr",
     "output_type": "stream",
     "text": [
      "Training: 100%|█| 5/5 [00:04<00:00,  1.20it/s, Loss=1587.0957, Recon=711.2328, K\n"
     ]
    },
    {
     "name": "stdout",
     "output_type": "stream",
     "text": [
      "05:25:17 INFO: Epoch 35/50 | Train Loss: 1421.3449 | Val Loss: 341.4952 | Recon: 700.9102 | KL: 720.4348 | β: 1.0000 | LR: 0.000031\n"
     ]
    },
    {
     "name": "stderr",
     "output_type": "stream",
     "text": [
      "Training: 100%|█| 5/5 [00:03<00:00,  1.32it/s, Loss=1315.3633, Recon=681.3833, K\n"
     ]
    },
    {
     "name": "stdout",
     "output_type": "stream",
     "text": [
      "05:25:22 INFO: Epoch 36/50 | Train Loss: 1373.7674 | Val Loss: 346.3311 | Recon: 687.7659 | KL: 686.0015 | β: 1.0000 | LR: 0.000031\n"
     ]
    },
    {
     "name": "stderr",
     "output_type": "stream",
     "text": [
      "Training: 100%|█| 5/5 [00:04<00:00,  1.21it/s, Loss=1445.4717, Recon=697.3640, K\n"
     ]
    },
    {
     "name": "stdout",
     "output_type": "stream",
     "text": [
      "05:25:27 INFO: Epoch 37/50 | Train Loss: 1387.2046 | Val Loss: 350.1925 | Recon: 700.8223 | KL: 686.3823 | β: 1.0000 | LR: 0.000016\n"
     ]
    },
    {
     "name": "stderr",
     "output_type": "stream",
     "text": [
      "Training: 100%|█| 5/5 [00:04<00:00,  1.13it/s, Loss=1427.5298, Recon=713.0561, K\n"
     ]
    },
    {
     "name": "stdout",
     "output_type": "stream",
     "text": [
      "05:25:33 INFO: Epoch 38/50 | Train Loss: 1389.0080 | Val Loss: 335.1539 | Recon: 699.1426 | KL: 689.8654 | β: 1.0000 | LR: 0.000016\n"
     ]
    },
    {
     "name": "stderr",
     "output_type": "stream",
     "text": [
      "Training: 100%|█| 5/5 [00:04<00:00,  1.16it/s, Loss=1428.4248, Recon=646.7136, K\n"
     ]
    },
    {
     "name": "stdout",
     "output_type": "stream",
     "text": [
      "05:25:39 INFO: Epoch 39/50 | Train Loss: 1353.9411 | Val Loss: 315.9915 | Recon: 681.4126 | KL: 672.5284 | β: 1.0000 | LR: 0.000016\n"
     ]
    },
    {
     "name": "stderr",
     "output_type": "stream",
     "text": [
      "Training: 100%|█| 5/5 [00:04<00:00,  1.21it/s, Loss=1561.7947, Recon=695.5112, K\n"
     ]
    },
    {
     "name": "stdout",
     "output_type": "stream",
     "text": [
      "05:25:44 INFO: Epoch 40/50 | Train Loss: 1402.1057 | Val Loss: 313.1790 | Recon: 683.3406 | KL: 718.7651 | β: 1.0000 | LR: 0.000016\n",
      "05:25:46 INFO: Checkpoint saved: ./weight_vae_checkpoints/checkpoint_epoch_40.pth\n"
     ]
    },
    {
     "name": "stderr",
     "output_type": "stream",
     "text": [
      "Training: 100%|█| 5/5 [00:03<00:00,  1.30it/s, Loss=1333.3296, Recon=658.2078, K\n"
     ]
    },
    {
     "name": "stdout",
     "output_type": "stream",
     "text": [
      "05:25:52 INFO: Epoch 41/50 | Train Loss: 1353.1001 | Val Loss: 312.6828 | Recon: 677.0176 | KL: 676.0825 | β: 1.0000 | LR: 0.000016\n"
     ]
    },
    {
     "name": "stderr",
     "output_type": "stream",
     "text": [
      "Training: 100%|█| 5/5 [00:03<00:00,  1.29it/s, Loss=1242.7476, Recon=690.0947, K\n"
     ]
    },
    {
     "name": "stdout",
     "output_type": "stream",
     "text": [
      "05:25:57 INFO: Epoch 42/50 | Train Loss: 1388.1215 | Val Loss: 301.0935 | Recon: 682.4669 | KL: 705.6546 | β: 1.0000 | LR: 0.000016\n"
     ]
    },
    {
     "name": "stderr",
     "output_type": "stream",
     "text": [
      "Training: 100%|█| 5/5 [00:03<00:00,  1.33it/s, Loss=1446.7942, Recon=682.9974, K\n"
     ]
    },
    {
     "name": "stdout",
     "output_type": "stream",
     "text": [
      "05:26:02 INFO: Epoch 43/50 | Train Loss: 1375.0344 | Val Loss: 299.1496 | Recon: 680.4245 | KL: 694.6099 | β: 1.0000 | LR: 0.000008\n"
     ]
    },
    {
     "name": "stderr",
     "output_type": "stream",
     "text": [
      "Training: 100%|█| 5/5 [00:04<00:00,  1.21it/s, Loss=1217.1277, Recon=646.3635, K\n"
     ]
    },
    {
     "name": "stdout",
     "output_type": "stream",
     "text": [
      "05:26:07 INFO: Epoch 44/50 | Train Loss: 1362.3293 | Val Loss: 296.0018 | Recon: 672.9139 | KL: 689.4154 | β: 1.0000 | LR: 0.000008\n"
     ]
    },
    {
     "name": "stderr",
     "output_type": "stream",
     "text": [
      "Training: 100%|█| 5/5 [00:03<00:00,  1.34it/s, Loss=1417.0920, Recon=664.0302, K\n"
     ]
    },
    {
     "name": "stdout",
     "output_type": "stream",
     "text": [
      "05:26:13 INFO: Epoch 45/50 | Train Loss: 1342.2026 | Val Loss: 298.9325 | Recon: 674.2220 | KL: 667.9806 | β: 1.0000 | LR: 0.000008\n"
     ]
    },
    {
     "name": "stderr",
     "output_type": "stream",
     "text": [
      "Training: 100%|█| 5/5 [00:04<00:00,  1.18it/s, Loss=1435.7307, Recon=661.1283, K\n"
     ]
    },
    {
     "name": "stdout",
     "output_type": "stream",
     "text": [
      "05:26:18 INFO: Epoch 46/50 | Train Loss: 1411.9006 | Val Loss: 297.0848 | Recon: 677.3172 | KL: 734.5834 | β: 1.0000 | LR: 0.000008\n"
     ]
    },
    {
     "name": "stderr",
     "output_type": "stream",
     "text": [
      "Training: 100%|█| 5/5 [00:04<00:00,  1.16it/s, Loss=1331.6821, Recon=660.4656, K\n"
     ]
    },
    {
     "name": "stdout",
     "output_type": "stream",
     "text": [
      "05:26:24 INFO: Epoch 47/50 | Train Loss: 1347.0424 | Val Loss: 291.1693 | Recon: 670.5212 | KL: 676.5212 | β: 1.0000 | LR: 0.000008\n"
     ]
    },
    {
     "name": "stderr",
     "output_type": "stream",
     "text": [
      "Training: 100%|█| 5/5 [00:04<00:00,  1.18it/s, Loss=1404.7606, Recon=674.4909, K\n"
     ]
    },
    {
     "name": "stdout",
     "output_type": "stream",
     "text": [
      "05:26:29 INFO: Epoch 48/50 | Train Loss: 1356.3410 | Val Loss: 291.3075 | Recon: 670.8556 | KL: 685.4854 | β: 1.0000 | LR: 0.000008\n"
     ]
    },
    {
     "name": "stderr",
     "output_type": "stream",
     "text": [
      "Training: 100%|█| 5/5 [00:03<00:00,  1.29it/s, Loss=1308.5095, Recon=660.7786, K\n"
     ]
    },
    {
     "name": "stdout",
     "output_type": "stream",
     "text": [
      "05:26:35 INFO: Epoch 49/50 | Train Loss: 1343.5989 | Val Loss: 287.6584 | Recon: 671.2551 | KL: 672.3438 | β: 1.0000 | LR: 0.000008\n"
     ]
    },
    {
     "name": "stderr",
     "output_type": "stream",
     "text": [
      "Training: 100%|█| 5/5 [00:03<00:00,  1.57it/s, Loss=1226.5985, Recon=647.1392, K\n"
     ]
    },
    {
     "name": "stdout",
     "output_type": "stream",
     "text": [
      "05:26:39 INFO: Epoch 50/50 | Train Loss: 1333.7911 | Val Loss: 289.1897 | Recon: 671.2595 | KL: 662.5316 | β: 1.0000 | LR: 0.000008\n",
      "05:26:39 INFO: Training completed!\n",
      "05:26:41 INFO: Checkpoint saved: ./weight_vae_checkpoints/final_model.pth\n",
      "05:26:41 INFO: Training history saved: ./weight_vae_checkpoints/training_history.json\n"
     ]
    },
    {
     "data": {
      "image/png": "[encoded data removed]",
      "text/plain": [
       "<Figure size 1200x800 with 4 Axes>"
      ]
     },
     "metadata": {},
     "output_type": "display_data"
    },
    {
     "name": "stdout",
     "output_type": "stream",
     "text": [
      "05:26:41 INFO: Training completed successfully!\n"
     ]
    }
   ],
   "source": [
    "# Example usage and training script\n",
    "\n",
    "# Hyperparameters\n",
    "input_dim = 7690\n",
    "latent_dim = 1024\n",
    "hidden_dims = [4096, 4096, 2048, 2048]\n",
    "epochs = 50\n",
    "lr = 1e-3\n",
    "beta = 1.0\n",
    "\n",
    "# Create model\n",
    "vae = WeightVAE(input_dim, latent_dim, hidden_dims)\n",
    "logger.info(f\"Created VAE model with {sum(p.numel() for p in model.parameters()):,} parameters\")\n",
    "\n",
    "# Create trainer\n",
    "trainer = VAETrainer(vae)\n",
    "\n",
    "# Beta annealing schedule\n",
    "beta_schedule = lambda epoch: beta_annealing_schedule(epoch, epochs, 0.0, beta)\n",
    "\n",
    "# Train model\n",
    "train_losses, val_losses = trainer.train(\n",
    "    train_loader=train_loader,\n",
    "    val_loader=val_loader,\n",
    "    epochs=epochs,\n",
    "    lr=lr,\n",
    "    beta=beta,\n",
    "    beta_schedule=beta_schedule,\n",
    "    save_dir='./weight_vae_checkpoints',\n",
    "    save_frequency=20,\n",
    "    patience=15\n",
    ")\n",
    "\n",
    "# Plot results\n",
    "plot_training_curves(\n",
    "    train_losses, val_losses, \n",
    "    trainer.recon_losses, trainer.kl_losses,\n",
    "    # save_path='./weight_vae_checkpoints/training_curves.png'\n",
    ")\n",
    "\n",
    "# # Test reconstruction\n",
    "# logger.info(\"Testing reconstruction...\")\n",
    "# model.eval()\n",
    "# with torch.no_grad():\n",
    "#     test_input = val_dataset[0][0].unsqueeze(0).to(trainer.device)\n",
    "#     recon, mu, logvar = model(test_input)\n",
    "#     recon_error = F.mse_loss(recon, test_input)\n",
    "#     logger.info(f\"Reconstruction MSE: {recon_error.item():.6f}\")\n",
    "\n",
    "logger.info(\"Training completed successfully!\")"
   ]
  },
  {
   "cell_type": "code",
   "execution_count": 161,
   "id": "c6b44734-3a5d-4cad-9cda-693a836d3eaf",
   "metadata": {},
   "outputs": [
    {
     "name": "stdout",
     "output_type": "stream",
     "text": [
      "05:26:47 INFO: Generating new MLP weights...\n",
      "05:26:48 INFO: Reconstructed model 0 accuracy: 91.53%\n",
      "05:26:49 INFO: Reconstructed model 0 accuracy: 38.14%\n",
      "05:26:49 INFO: Reconstructed model 1 accuracy: 91.46%\n",
      "05:26:50 INFO: Reconstructed model 1 accuracy: 39.30%\n",
      "05:26:50 INFO: Reconstructed model 2 accuracy: 91.75%\n",
      "05:26:51 INFO: Reconstructed model 2 accuracy: 38.77%\n",
      "05:26:52 INFO: Reconstructed model 3 accuracy: 91.84%\n",
      "05:26:52 INFO: Reconstructed model 3 accuracy: 39.22%\n",
      "05:26:53 INFO: Reconstructed model 4 accuracy: 91.66%\n",
      "05:26:53 INFO: Reconstructed model 4 accuracy: 39.86%\n",
      "05:26:54 INFO: Reconstructed model 5 accuracy: 91.07%\n",
      "05:26:55 INFO: Reconstructed model 5 accuracy: 40.64%\n",
      "05:26:55 INFO: Reconstructed model 6 accuracy: 91.06%\n",
      "05:26:56 INFO: Reconstructed model 6 accuracy: 37.41%\n",
      "05:26:56 INFO: Reconstructed model 7 accuracy: 89.80%\n",
      "05:26:57 INFO: Reconstructed model 7 accuracy: 39.37%\n",
      "05:26:58 INFO: Reconstructed model 8 accuracy: 91.37%\n",
      "05:26:58 INFO: Reconstructed model 8 accuracy: 38.19%\n",
      "05:26:59 INFO: Reconstructed model 9 accuracy: 89.51%\n",
      "05:27:00 INFO: Reconstructed model 9 accuracy: 38.87%\n",
      "05:27:00 INFO: Reconstructed model 10 accuracy: 91.41%\n",
      "05:27:01 INFO: Reconstructed model 10 accuracy: 38.69%\n",
      "05:27:01 INFO: Reconstructed model 11 accuracy: 90.58%\n",
      "05:27:02 INFO: Reconstructed model 11 accuracy: 38.38%\n",
      "05:27:03 INFO: Reconstructed model 12 accuracy: 90.41%\n",
      "05:27:03 INFO: Reconstructed model 12 accuracy: 37.44%\n",
      "05:27:04 INFO: Reconstructed model 13 accuracy: 91.33%\n",
      "05:27:04 INFO: Reconstructed model 13 accuracy: 40.57%\n",
      "05:27:05 INFO: Reconstructed model 14 accuracy: 91.18%\n",
      "05:27:06 INFO: Reconstructed model 14 accuracy: 38.77%\n",
      "05:27:06 INFO: Reconstructed model 15 accuracy: 91.13%\n",
      "05:27:07 INFO: Reconstructed model 15 accuracy: 39.14%\n",
      "05:27:08 INFO: Reconstructed model 16 accuracy: 90.24%\n",
      "05:27:08 INFO: Reconstructed model 16 accuracy: 39.50%\n",
      "05:27:09 INFO: Reconstructed model 17 accuracy: 91.25%\n",
      "05:27:09 INFO: Reconstructed model 17 accuracy: 40.71%\n",
      "05:27:10 INFO: Reconstructed model 18 accuracy: 90.85%\n",
      "05:27:11 INFO: Reconstructed model 18 accuracy: 40.73%\n",
      "05:27:11 INFO: Reconstructed model 19 accuracy: 91.72%\n",
      "05:27:12 INFO: Reconstructed model 19 accuracy: 41.16%\n",
      "05:27:12 INFO: Reconstructed model 20 accuracy: 90.59%\n",
      "05:27:13 INFO: Reconstructed model 20 accuracy: 39.34%\n",
      "05:27:14 INFO: Reconstructed model 21 accuracy: 91.77%\n",
      "05:27:14 INFO: Reconstructed model 21 accuracy: 41.92%\n",
      "05:27:15 INFO: Reconstructed model 22 accuracy: 90.97%\n",
      "05:27:16 INFO: Reconstructed model 22 accuracy: 40.47%\n",
      "05:27:16 INFO: Reconstructed model 23 accuracy: 91.79%\n",
      "05:27:17 INFO: Reconstructed model 23 accuracy: 38.10%\n",
      "05:27:18 INFO: Reconstructed model 24 accuracy: 90.99%\n",
      "05:27:18 INFO: Reconstructed model 24 accuracy: 40.13%\n"
     ]
    },
    {
     "data": {
      "image/png": "[encoded data removed]",
      "text/plain": [
       "<Figure size 960x640 with 1 Axes>"
      ]
     },
     "metadata": {},
     "output_type": "display_data"
    }
   ],
   "source": [
    "# Generate new MLP weights\n",
    "logging.info(\"Generating new MLP weights...\")\n",
    "n_samples = 25\n",
    "\n",
    "\n",
    "# Convert to MLP weights and save\n",
    "true_accuracies = []\n",
    "recon_accuracies = []\n",
    "for i in range(n_samples):\n",
    "\n",
    "    # I can also add normal/kaiming-he init untrained models as a control group\n",
    "\n",
    "    # originals from the validation dataset\n",
    "    new_wso = WeightSpaceObject.from_flat(\n",
    "        val_dataset[i][0],\n",
    "        layers=np.array(layer_layout), \n",
    "        device=device\n",
    "    )\n",
    "\n",
    "    expected_weight_shapes = [(32, 196), (32, 32), (10, 32)]\n",
    "    expected_bias_shapes = [(32,), (32,), (10,)]\n",
    "\n",
    "    assert len(new_wso.weights) == 3, f\"Expected 3 weight matrices, got {len(new_wso.weights)}\"\n",
    "    assert len(new_wso.biases) == 3, f\"Expected 3 bias vectors, got {len(new_wso.biases)}\"\n",
    "    \n",
    "    # Check each weight and bias shape\n",
    "    for j, (w, expected_shape) in enumerate(zip(new_wso.weights, expected_weight_shapes)):\n",
    "        assert w.shape == expected_shape, f\"Weight {j} has shape {w.shape}, expected {expected_shape}\"\n",
    "    \n",
    "    for j, (b, expected_shape) in enumerate(zip(new_wso.biases, expected_bias_shapes)):\n",
    "        assert b.shape == expected_shape, f\"Bias {j} has shape {b.shape}, expected {expected_shape}\"\n",
    "\n",
    "    # Create and test model\n",
    "    model = MLP()\n",
    "    model.fc1.weight.data = new_wso.weights[0].clone()\n",
    "    model.fc1.bias.data = new_wso.biases[0].clone()\n",
    "    model.fc2.weight.data = new_wso.weights[1].clone()\n",
    "    model.fc2.bias.data = new_wso.biases[1].clone()\n",
    "    model.fc3.weight.data = new_wso.weights[2].clone()\n",
    "    model.fc3.bias.data = new_wso.biases[2].clone()\n",
    "\n",
    "    acc = test_mlp(model, test_loader)\n",
    "    true_accuracies.append(acc)\n",
    "    logging.info(f\"Reconstructed model {i} accuracy: {acc:.2f}%\")\n",
    "\n",
    "    vae.eval()\n",
    "    # originals from the validation dataset\n",
    "    new_wso = WeightSpaceObject.from_flat(\n",
    "        vae(val_dataset[i][0].unsqueeze(0))[0].squeeze(),\n",
    "        layers=np.array(layer_layout), \n",
    "        device=device\n",
    "    )\n",
    "\n",
    "    expected_weight_shapes = [(32, 196), (32, 32), (10, 32)]\n",
    "    expected_bias_shapes = [(32,), (32,), (10,)]\n",
    "\n",
    "    assert len(new_wso.weights) == 3, f\"Expected 3 weight matrices, got {len(new_wso.weights)}\"\n",
    "    assert len(new_wso.biases) == 3, f\"Expected 3 bias vectors, got {len(new_wso.biases)}\"\n",
    "    \n",
    "    # Check each weight and bias shape\n",
    "    for j, (w, expected_shape) in enumerate(zip(new_wso.weights, expected_weight_shapes)):\n",
    "        assert w.shape == expected_shape, f\"Weight {j} has shape {w.shape}, expected {expected_shape}\"\n",
    "    \n",
    "    for j, (b, expected_shape) in enumerate(zip(new_wso.biases, expected_bias_shapes)):\n",
    "        assert b.shape == expected_shape, f\"Bias {j} has shape {b.shape}, expected {expected_shape}\"\n",
    "\n",
    "    # Create and test model\n",
    "    model = MLP()\n",
    "    model.fc1.weight.data = new_wso.weights[0].clone()\n",
    "    model.fc1.bias.data = new_wso.biases[0].clone()\n",
    "    model.fc2.weight.data = new_wso.weights[1].clone()\n",
    "    model.fc2.bias.data = new_wso.biases[1].clone()\n",
    "    model.fc3.weight.data = new_wso.weights[2].clone()\n",
    "    model.fc3.bias.data = new_wso.biases[2].clone()\n",
    "\n",
    "    acc = test_mlp(model, test_loader)\n",
    "    recon_accuracies.append(acc)\n",
    "    logging.info(f\"Reconstructed model {i} accuracy: {acc:.2f}%\")\n",
    "\n",
    "\n",
    "plt.figure(figsize=(12, 8), dpi=80)\n",
    "plt.hist(true_accuracies, alpha = 0.8)\n",
    "plt.hist(recon_accuracies, alpha = 0.8)\n",
    "\n",
    "plt.axvline(np.mean(recon_accuracies), color = 'k', label = f\"Mean reconstructed {n_samples} model(s) performance\")\n",
    "plt.axvline(np.mean(true_accuracies), color = 'k', label = f\"Mean original {n_samples} model(s) performance\")\n",
    "\n",
    "plt.legend()\n",
    "plt.show()"
   ]
  },
  {
   "cell_type": "code",
   "execution_count": null,
   "id": "f76688ee-7318-466c-a1b8-8edaacb06441",
   "metadata": {},
   "outputs": [],
   "source": []
  },
  {
   "cell_type": "code",
   "execution_count": null,
   "id": "5c26757a-cc1a-4500-95ac-254ad35bae5a",
   "metadata": {},
   "outputs": [],
   "source": []
  },
  {
   "cell_type": "code",
   "execution_count": null,
   "id": "53436678-c55c-4e02-b0f7-fb0918225e17",
   "metadata": {},
   "outputs": [],
   "source": []
  },
  {
   "cell_type": "code",
   "execution_count": null,
   "id": "fe23176f-0c7c-4a29-b0fb-6dbc21df222e",
   "metadata": {},
   "outputs": [],
   "source": []
  },
  {
   "cell_type": "code",
   "execution_count": null,
   "id": "ca35cc7b-1bd7-4354-83eb-e1888c578bf0",
   "metadata": {},
   "outputs": [],
   "source": []
  }
 ],
 "metadata": {
  "kernelspec": {
   "display_name": "Python 3 (ipykernel)",
   "language": "python",
   "name": "python3"
  },
  "language_info": {
   "codemirror_mode": {
    "name": "ipython",
    "version": 3
   },
   "file_extension": ".py",
   "mimetype": "text/x-python",
   "name": "python",
   "nbconvert_exporter": "python",
   "pygments_lexer": "ipython3",
   "version": "3.12.4"
  }
 },
 "nbformat": 4,
 "nbformat_minor": 5
}
